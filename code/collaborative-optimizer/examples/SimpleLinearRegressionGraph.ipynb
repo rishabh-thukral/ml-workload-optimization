{
 "cells": [
  {
   "cell_type": "markdown",
   "id": "597937e6",
   "metadata": {},
   "source": [
    "# Linear Regression without Execution Graph"
   ]
  },
  {
   "cell_type": "markdown",
   "id": "b6cfd9a9",
   "metadata": {},
   "source": [
    "Code from [Medium](https://towardsdatascience.com/simple-linear-regression-model-using-python-machine-learning-eab7924d18b4)"
   ]
  },
  {
   "cell_type": "code",
   "execution_count": 1,
   "id": "762e6647",
   "metadata": {},
   "outputs": [],
   "source": [
    "import numpy as np\n",
    "import pandas as pd"
   ]
  },
  {
   "cell_type": "markdown",
   "id": "07c22c5c",
   "metadata": {},
   "source": [
    "## Load Data"
   ]
  },
  {
   "cell_type": "code",
   "execution_count": 2,
   "id": "bd4ee661",
   "metadata": {},
   "outputs": [
    {
     "data": {
      "text/html": [
       "<div>\n",
       "<style scoped>\n",
       "    .dataframe tbody tr th:only-of-type {\n",
       "        vertical-align: middle;\n",
       "    }\n",
       "\n",
       "    .dataframe tbody tr th {\n",
       "        vertical-align: top;\n",
       "    }\n",
       "\n",
       "    .dataframe thead th {\n",
       "        text-align: right;\n",
       "    }\n",
       "</style>\n",
       "<table border=\"1\" class=\"dataframe\">\n",
       "  <thead>\n",
       "    <tr style=\"text-align: right;\">\n",
       "      <th></th>\n",
       "      <th>TV</th>\n",
       "      <th>Radio</th>\n",
       "      <th>Newspaper</th>\n",
       "      <th>Sales</th>\n",
       "    </tr>\n",
       "  </thead>\n",
       "  <tbody>\n",
       "    <tr>\n",
       "      <th>0</th>\n",
       "      <td>230.1</td>\n",
       "      <td>37.8</td>\n",
       "      <td>69.2</td>\n",
       "      <td>22.1</td>\n",
       "    </tr>\n",
       "    <tr>\n",
       "      <th>1</th>\n",
       "      <td>44.5</td>\n",
       "      <td>39.3</td>\n",
       "      <td>45.1</td>\n",
       "      <td>10.4</td>\n",
       "    </tr>\n",
       "    <tr>\n",
       "      <th>2</th>\n",
       "      <td>17.2</td>\n",
       "      <td>45.9</td>\n",
       "      <td>69.3</td>\n",
       "      <td>12.0</td>\n",
       "    </tr>\n",
       "    <tr>\n",
       "      <th>3</th>\n",
       "      <td>151.5</td>\n",
       "      <td>41.3</td>\n",
       "      <td>58.5</td>\n",
       "      <td>16.5</td>\n",
       "    </tr>\n",
       "    <tr>\n",
       "      <th>4</th>\n",
       "      <td>180.8</td>\n",
       "      <td>10.8</td>\n",
       "      <td>58.4</td>\n",
       "      <td>17.9</td>\n",
       "    </tr>\n",
       "    <tr>\n",
       "      <th>...</th>\n",
       "      <td>...</td>\n",
       "      <td>...</td>\n",
       "      <td>...</td>\n",
       "      <td>...</td>\n",
       "    </tr>\n",
       "    <tr>\n",
       "      <th>195</th>\n",
       "      <td>38.2</td>\n",
       "      <td>3.7</td>\n",
       "      <td>13.8</td>\n",
       "      <td>7.6</td>\n",
       "    </tr>\n",
       "    <tr>\n",
       "      <th>196</th>\n",
       "      <td>94.2</td>\n",
       "      <td>4.9</td>\n",
       "      <td>8.1</td>\n",
       "      <td>14.0</td>\n",
       "    </tr>\n",
       "    <tr>\n",
       "      <th>197</th>\n",
       "      <td>177.0</td>\n",
       "      <td>9.3</td>\n",
       "      <td>6.4</td>\n",
       "      <td>14.8</td>\n",
       "    </tr>\n",
       "    <tr>\n",
       "      <th>198</th>\n",
       "      <td>283.6</td>\n",
       "      <td>42.0</td>\n",
       "      <td>66.2</td>\n",
       "      <td>25.5</td>\n",
       "    </tr>\n",
       "    <tr>\n",
       "      <th>199</th>\n",
       "      <td>232.1</td>\n",
       "      <td>8.6</td>\n",
       "      <td>8.7</td>\n",
       "      <td>18.4</td>\n",
       "    </tr>\n",
       "  </tbody>\n",
       "</table>\n",
       "<p>200 rows × 4 columns</p>\n",
       "</div>"
      ],
      "text/plain": [
       "        TV  Radio  Newspaper  Sales\n",
       "0    230.1   37.8       69.2   22.1\n",
       "1     44.5   39.3       45.1   10.4\n",
       "2     17.2   45.9       69.3   12.0\n",
       "3    151.5   41.3       58.5   16.5\n",
       "4    180.8   10.8       58.4   17.9\n",
       "..     ...    ...        ...    ...\n",
       "195   38.2    3.7       13.8    7.6\n",
       "196   94.2    4.9        8.1   14.0\n",
       "197  177.0    9.3        6.4   14.8\n",
       "198  283.6   42.0       66.2   25.5\n",
       "199  232.1    8.6        8.7   18.4\n",
       "\n",
       "[200 rows x 4 columns]"
      ]
     },
     "execution_count": 2,
     "metadata": {},
     "output_type": "execute_result"
    }
   ],
   "source": [
    "advertising = pd.read_csv(\"lr_data/Company_data.csv\")\n",
    "advertising"
   ]
  },
  {
   "cell_type": "markdown",
   "id": "55f23277",
   "metadata": {},
   "source": [
    "## EDA"
   ]
  },
  {
   "cell_type": "code",
   "execution_count": 3,
   "id": "3764d946",
   "metadata": {},
   "outputs": [
    {
     "data": {
      "text/plain": [
       "(200, 4)"
      ]
     },
     "execution_count": 3,
     "metadata": {},
     "output_type": "execute_result"
    }
   ],
   "source": [
    "# Shape of our dataset\n",
    "advertising.shape"
   ]
  },
  {
   "cell_type": "code",
   "execution_count": 4,
   "id": "1a0b24c2",
   "metadata": {},
   "outputs": [
    {
     "name": "stdout",
     "output_type": "stream",
     "text": [
      "<class 'pandas.core.frame.DataFrame'>\n",
      "RangeIndex: 200 entries, 0 to 199\n",
      "Data columns (total 4 columns):\n",
      " #   Column     Non-Null Count  Dtype  \n",
      "---  ------     --------------  -----  \n",
      " 0   TV         200 non-null    float64\n",
      " 1   Radio      200 non-null    float64\n",
      " 2   Newspaper  200 non-null    float64\n",
      " 3   Sales      200 non-null    float64\n",
      "dtypes: float64(4)\n",
      "memory usage: 6.4 KB\n"
     ]
    }
   ],
   "source": [
    "# Info our dataset\n",
    "advertising.info()"
   ]
  },
  {
   "cell_type": "code",
   "execution_count": 5,
   "id": "a31f8732",
   "metadata": {},
   "outputs": [
    {
     "data": {
      "text/html": [
       "<div>\n",
       "<style scoped>\n",
       "    .dataframe tbody tr th:only-of-type {\n",
       "        vertical-align: middle;\n",
       "    }\n",
       "\n",
       "    .dataframe tbody tr th {\n",
       "        vertical-align: top;\n",
       "    }\n",
       "\n",
       "    .dataframe thead th {\n",
       "        text-align: right;\n",
       "    }\n",
       "</style>\n",
       "<table border=\"1\" class=\"dataframe\">\n",
       "  <thead>\n",
       "    <tr style=\"text-align: right;\">\n",
       "      <th></th>\n",
       "      <th>TV</th>\n",
       "      <th>Radio</th>\n",
       "      <th>Newspaper</th>\n",
       "      <th>Sales</th>\n",
       "    </tr>\n",
       "  </thead>\n",
       "  <tbody>\n",
       "    <tr>\n",
       "      <th>count</th>\n",
       "      <td>200.000000</td>\n",
       "      <td>200.000000</td>\n",
       "      <td>200.000000</td>\n",
       "      <td>200.000000</td>\n",
       "    </tr>\n",
       "    <tr>\n",
       "      <th>mean</th>\n",
       "      <td>147.042500</td>\n",
       "      <td>23.264000</td>\n",
       "      <td>30.554000</td>\n",
       "      <td>15.130500</td>\n",
       "    </tr>\n",
       "    <tr>\n",
       "      <th>std</th>\n",
       "      <td>85.854236</td>\n",
       "      <td>14.846809</td>\n",
       "      <td>21.778621</td>\n",
       "      <td>5.283892</td>\n",
       "    </tr>\n",
       "    <tr>\n",
       "      <th>min</th>\n",
       "      <td>0.700000</td>\n",
       "      <td>0.000000</td>\n",
       "      <td>0.300000</td>\n",
       "      <td>1.600000</td>\n",
       "    </tr>\n",
       "    <tr>\n",
       "      <th>25%</th>\n",
       "      <td>74.375000</td>\n",
       "      <td>9.975000</td>\n",
       "      <td>12.750000</td>\n",
       "      <td>11.000000</td>\n",
       "    </tr>\n",
       "    <tr>\n",
       "      <th>50%</th>\n",
       "      <td>149.750000</td>\n",
       "      <td>22.900000</td>\n",
       "      <td>25.750000</td>\n",
       "      <td>16.000000</td>\n",
       "    </tr>\n",
       "    <tr>\n",
       "      <th>75%</th>\n",
       "      <td>218.825000</td>\n",
       "      <td>36.525000</td>\n",
       "      <td>45.100000</td>\n",
       "      <td>19.050000</td>\n",
       "    </tr>\n",
       "    <tr>\n",
       "      <th>max</th>\n",
       "      <td>296.400000</td>\n",
       "      <td>49.600000</td>\n",
       "      <td>114.000000</td>\n",
       "      <td>27.000000</td>\n",
       "    </tr>\n",
       "  </tbody>\n",
       "</table>\n",
       "</div>"
      ],
      "text/plain": [
       "               TV       Radio   Newspaper       Sales\n",
       "count  200.000000  200.000000  200.000000  200.000000\n",
       "mean   147.042500   23.264000   30.554000   15.130500\n",
       "std     85.854236   14.846809   21.778621    5.283892\n",
       "min      0.700000    0.000000    0.300000    1.600000\n",
       "25%     74.375000    9.975000   12.750000   11.000000\n",
       "50%    149.750000   22.900000   25.750000   16.000000\n",
       "75%    218.825000   36.525000   45.100000   19.050000\n",
       "max    296.400000   49.600000  114.000000   27.000000"
      ]
     },
     "execution_count": 5,
     "metadata": {},
     "output_type": "execute_result"
    }
   ],
   "source": [
    "# Describe our dataset\n",
    "advertising.describe()"
   ]
  },
  {
   "cell_type": "code",
   "execution_count": 6,
   "id": "725c187c",
   "metadata": {},
   "outputs": [],
   "source": [
    "# Import matplotlib and seaborn libraries to visualize the data\n",
    "import matplotlib.pyplot as plt \n",
    "import seaborn as sns"
   ]
  },
  {
   "cell_type": "code",
   "execution_count": 7,
   "id": "54cd7688",
   "metadata": {},
   "outputs": [
    {
     "name": "stderr",
     "output_type": "stream",
     "text": [
      "/Users/rishabhmac/opt/anaconda3/envs/mlflow/lib/python3.8/site-packages/seaborn/axisgrid.py:2076: UserWarning: The `size` parameter has been renamed to `height`; please update your code.\n",
      "  warnings.warn(msg, UserWarning)\n"
     ]
    },
    {
     "data": {
      "image/png": "[encoded data removed]",
      "text/plain": [
       "<Figure size 1200x400 with 3 Axes>"
      ]
     },
     "metadata": {},
     "output_type": "display_data"
    }
   ],
   "source": [
    "# Using pairplot we'll visualize the data for correlation\n",
    "sns.pairplot(advertising, x_vars=['TV', 'Radio','Newspaper'], \n",
    "             y_vars='Sales', size=4, aspect=1, kind='scatter')\n",
    "plt.show()"
   ]
  },
  {
   "cell_type": "code",
   "execution_count": 8,
   "id": "71c4a1d0",
   "metadata": {},
   "outputs": [
    {
     "data": {
      "image/png": "[encoded data removed]",
      "text/plain": [
       "<Figure size 640x480 with 2 Axes>"
      ]
     },
     "metadata": {},
     "output_type": "display_data"
    }
   ],
   "source": [
    "# Visualizing the data using heatmap\n",
    "sns.heatmap(advertising.corr(), cmap=\"YlGnBu\", annot = True)\n",
    "plt.show()"
   ]
  },
  {
   "cell_type": "markdown",
   "id": "d0b664f2",
   "metadata": {},
   "source": [
    "## LR Model"
   ]
  },
  {
   "cell_type": "code",
   "execution_count": 9,
   "id": "12f982ad",
   "metadata": {},
   "outputs": [],
   "source": [
    "# Creating X and y\n",
    "X = advertising['TV']\n",
    "y = advertising['Sales']"
   ]
  },
  {
   "cell_type": "code",
   "execution_count": 10,
   "id": "adbd2e74",
   "metadata": {},
   "outputs": [],
   "source": [
    "# Splitting the data into train and test\n",
    "from sklearn.model_selection import train_test_split\n",
    "X_train_lm, X_test_lm, y_train_lm, y_test_lm = train_test_split(X, y, train_size = 0.7, \n",
    "                                                                test_size = 0.3, random_state = 100)"
   ]
  },
  {
   "cell_type": "code",
   "execution_count": 11,
   "id": "e6a8760e",
   "metadata": {},
   "outputs": [
    {
     "name": "stdout",
     "output_type": "stream",
     "text": [
      "(140, 1)\n",
      "(60, 1)\n"
     ]
    }
   ],
   "source": [
    "# Shape of the train set without adding column\n",
    "X_train_lm.shape\n",
    "\n",
    "# Adding additional column to the train and test data\n",
    "X_train_lm = X_train_lm.values.reshape(-1,1)\n",
    "X_test_lm = X_test_lm.values.reshape(-1,1)\n",
    "\n",
    "print(X_train_lm.shape)\n",
    "print(X_test_lm.shape)"
   ]
  },
  {
   "cell_type": "code",
   "execution_count": 12,
   "id": "c03c320b",
   "metadata": {},
   "outputs": [
    {
     "data": {
      "text/html": [
       "<style>#sk-container-id-1 {color: black;background-color: white;}#sk-container-id-1 pre{padding: 0;}#sk-container-id-1 div.sk-toggleable {background-color: white;}#sk-container-id-1 label.sk-toggleable__label {cursor: pointer;display: block;width: 100%;margin-bottom: 0;padding: 0.3em;box-sizing: border-box;text-align: center;}#sk-container-id-1 label.sk-toggleable__label-arrow:before {content: \"▸\";float: left;margin-right: 0.25em;color: #696969;}#sk-container-id-1 label.sk-toggleable__label-arrow:hover:before {color: black;}#sk-container-id-1 div.sk-estimator:hover label.sk-toggleable__label-arrow:before {color: black;}#sk-container-id-1 div.sk-toggleable__content {max-height: 0;max-width: 0;overflow: hidden;text-align: left;background-color: #f0f8ff;}#sk-container-id-1 div.sk-toggleable__content pre {margin: 0.2em;color: black;border-radius: 0.25em;background-color: #f0f8ff;}#sk-container-id-1 input.sk-toggleable__control:checked~div.sk-toggleable__content {max-height: 200px;max-width: 100%;overflow: auto;}#sk-container-id-1 input.sk-toggleable__control:checked~label.sk-toggleable__label-arrow:before {content: \"▾\";}#sk-container-id-1 div.sk-estimator input.sk-toggleable__control:checked~label.sk-toggleable__label {background-color: #d4ebff;}#sk-container-id-1 div.sk-label input.sk-toggleable__control:checked~label.sk-toggleable__label {background-color: #d4ebff;}#sk-container-id-1 input.sk-hidden--visually {border: 0;clip: rect(1px 1px 1px 1px);clip: rect(1px, 1px, 1px, 1px);height: 1px;margin: -1px;overflow: hidden;padding: 0;position: absolute;width: 1px;}#sk-container-id-1 div.sk-estimator {font-family: monospace;background-color: #f0f8ff;border: 1px dotted black;border-radius: 0.25em;box-sizing: border-box;margin-bottom: 0.5em;}#sk-container-id-1 div.sk-estimator:hover {background-color: #d4ebff;}#sk-container-id-1 div.sk-parallel-item::after {content: \"\";width: 100%;border-bottom: 1px solid gray;flex-grow: 1;}#sk-container-id-1 div.sk-label:hover label.sk-toggleable__label {background-color: #d4ebff;}#sk-container-id-1 div.sk-serial::before {content: \"\";position: absolute;border-left: 1px solid gray;box-sizing: border-box;top: 0;bottom: 0;left: 50%;z-index: 0;}#sk-container-id-1 div.sk-serial {display: flex;flex-direction: column;align-items: center;background-color: white;padding-right: 0.2em;padding-left: 0.2em;position: relative;}#sk-container-id-1 div.sk-item {position: relative;z-index: 1;}#sk-container-id-1 div.sk-parallel {display: flex;align-items: stretch;justify-content: center;background-color: white;position: relative;}#sk-container-id-1 div.sk-item::before, #sk-container-id-1 div.sk-parallel-item::before {content: \"\";position: absolute;border-left: 1px solid gray;box-sizing: border-box;top: 0;bottom: 0;left: 50%;z-index: -1;}#sk-container-id-1 div.sk-parallel-item {display: flex;flex-direction: column;z-index: 1;position: relative;background-color: white;}#sk-container-id-1 div.sk-parallel-item:first-child::after {align-self: flex-end;width: 50%;}#sk-container-id-1 div.sk-parallel-item:last-child::after {align-self: flex-start;width: 50%;}#sk-container-id-1 div.sk-parallel-item:only-child::after {width: 0;}#sk-container-id-1 div.sk-dashed-wrapped {border: 1px dashed gray;margin: 0 0.4em 0.5em 0.4em;box-sizing: border-box;padding-bottom: 0.4em;background-color: white;}#sk-container-id-1 div.sk-label label {font-family: monospace;font-weight: bold;display: inline-block;line-height: 1.2em;}#sk-container-id-1 div.sk-label-container {text-align: center;}#sk-container-id-1 div.sk-container {/* jupyter's `normalize.less` sets `[hidden] { display: none; }` but bootstrap.min.css set `[hidden] { display: none !important; }` so we also need the `!important` here to be able to override the default hidden behavior on the sphinx rendered scikit-learn.org. See: https://github.com/scikit-learn/scikit-learn/issues/21755 */display: inline-block !important;position: relative;}#sk-container-id-1 div.sk-text-repr-fallback {display: none;}</style><div id=\"sk-container-id-1\" class=\"sk-top-container\"><div class=\"sk-text-repr-fallback\"><pre>LinearRegression()</pre><b>In a Jupyter environment, please rerun this cell to show the HTML representation or trust the notebook. <br />On GitHub, the HTML representation is unable to render, please try loading this page with nbviewer.org.</b></div><div class=\"sk-container\" hidden><div class=\"sk-item\"><div class=\"sk-estimator sk-toggleable\"><input class=\"sk-toggleable__control sk-hidden--visually\" id=\"sk-estimator-id-1\" type=\"checkbox\" checked><label for=\"sk-estimator-id-1\" class=\"sk-toggleable__label sk-toggleable__label-arrow\">LinearRegression</label><div class=\"sk-toggleable__content\"><pre>LinearRegression()</pre></div></div></div></div></div>"
      ],
      "text/plain": [
       "LinearRegression()"
      ]
     },
     "execution_count": 12,
     "metadata": {},
     "output_type": "execute_result"
    }
   ],
   "source": [
    "from sklearn.linear_model import LinearRegression\n",
    "\n",
    "# Creating an object of Linear Regression\n",
    "lm = LinearRegression()\n",
    "\n",
    "# Fit the model using .fit() method\n",
    "lm.fit(X_train_lm, y_train_lm)"
   ]
  },
  {
   "cell_type": "code",
   "execution_count": 13,
   "id": "5f27032a",
   "metadata": {},
   "outputs": [
    {
     "name": "stdout",
     "output_type": "stream",
     "text": [
      "Intercept : 6.948683200001357\n",
      "Slope : [0.05454575]\n"
     ]
    }
   ],
   "source": [
    "# Intercept value\n",
    "print(\"Intercept :\",lm.intercept_)\n",
    "\n",
    "# Slope value\n",
    "print('Slope :',lm.coef_)"
   ]
  },
  {
   "cell_type": "markdown",
   "id": "f1ddeb7d",
   "metadata": {},
   "source": [
    "## Predict"
   ]
  },
  {
   "cell_type": "code",
   "execution_count": 14,
   "id": "b19416a4",
   "metadata": {},
   "outputs": [],
   "source": [
    "# Making Predictions of y_value\n",
    "y_train_pred = lm.predict(X_train_lm)\n",
    "y_test_pred = lm.predict(X_test_lm)"
   ]
  },
  {
   "cell_type": "markdown",
   "id": "374d74c1",
   "metadata": {},
   "source": [
    "## Evaluate"
   ]
  },
  {
   "cell_type": "code",
   "execution_count": 16,
   "id": "c3aa0817",
   "metadata": {},
   "outputs": [
    {
     "name": "stdout",
     "output_type": "stream",
     "text": [
      "0.8157933136480389\n",
      "0.7921031601245662\n"
     ]
    }
   ],
   "source": [
    "# Importing r2_square\n",
    "from sklearn.metrics import r2_score\n",
    "\n",
    "# Comparing the r2 value of both train and test data\n",
    "print(r2_score(y_train_lm,y_train_pred))\n",
    "print(r2_score(y_test_lm,y_test_pred))"
   ]
  },
  {
   "cell_type": "code",
   "execution_count": 19,
   "id": "50af0441",
   "metadata": {},
   "outputs": [
    {
     "data": {
      "image/png": "[encoded data removed]",
      "text/plain": [
       "<Figure size 640x480 with 1 Axes>"
      ]
     },
     "metadata": {},
     "output_type": "display_data"
    }
   ],
   "source": [
    "# Visualize the line on the test set\n",
    "plt.scatter(X_test_lm, y_test_lm)\n",
    "plt.plot(X_test_lm, y_test_pred, 'r')\n",
    "plt.show()"
   ]
  },
  {
   "cell_type": "markdown",
   "id": "1e0d82e6",
   "metadata": {},
   "source": [
    "# Linear Regression with Execution Graph"
   ]
  },
  {
   "cell_type": "code",
   "execution_count": 20,
   "id": "d0caa2d1",
   "metadata": {},
   "outputs": [],
   "source": [
    "%load_ext autoreload\n",
    "%autoreload 2"
   ]
  },
  {
   "cell_type": "code",
   "execution_count": 21,
   "id": "4a39fe3b",
   "metadata": {},
   "outputs": [],
   "source": [
    "X_train_lm, X_test_lm, y_train_lm, y_test_lm = train_test_split(X, y, train_size = 0.7, \n",
    "                                                                test_size = 0.3, random_state = 100)"
   ]
  },
  {
   "cell_type": "code",
   "execution_count": 22,
   "id": "64fcce45",
   "metadata": {},
   "outputs": [],
   "source": [
    "train_csv = pd.concat([X_train_lm,y_train_lm], axis=1)\n",
    "test_csv = X_test_lm\n",
    "test_csv_labels = y_test_lm"
   ]
  },
  {
   "cell_type": "code",
   "execution_count": 23,
   "id": "cfa48eeb",
   "metadata": {},
   "outputs": [],
   "source": [
    "import os\n",
    "if not os.path.exists('./lr_data/final'):\n",
    "    os.mkdir('./lr_data/final')\n",
    "\n",
    "train_csv.to_csv('./lr_data/final/train.csv', index=False)\n",
    "test_csv.to_csv('./lr_data/final/test.csv', index=False)\n",
    "\n",
    "test_csv_labels.to_csv('./lr_data/final/test_labels.csv', index=False)"
   ]
  },
  {
   "cell_type": "markdown",
   "id": "b43adb6a",
   "metadata": {},
   "source": [
    "## Start Environment"
   ]
  },
  {
   "cell_type": "code",
   "execution_count": 24,
   "id": "8712e66e",
   "metadata": {},
   "outputs": [],
   "source": [
    "from experiment_graph.execution_environment import ExecutionEnvironment"
   ]
  },
  {
   "cell_type": "code",
   "execution_count": 25,
   "id": "38313137",
   "metadata": {},
   "outputs": [],
   "source": [
    "execution_environment = ExecutionEnvironment()\n",
    "root_data = './lr_data/final'"
   ]
  },
  {
   "cell_type": "markdown",
   "id": "420dee59",
   "metadata": {},
   "source": [
    "## Load Data"
   ]
  },
  {
   "cell_type": "code",
   "execution_count": 26,
   "id": "2e62012d",
   "metadata": {},
   "outputs": [
    {
     "name": "stdout",
     "output_type": "stream",
     "text": [
      "creating a new root node\n",
      "Training data shape:  (140, 2)\n",
      "creating a new root node\n",
      "Testing data shape:  (60, 1)\n",
      "creating a new root node\n",
      "Testing lables shape:  (60, 1)\n"
     ]
    }
   ],
   "source": [
    "train = execution_environment.load(root_data + '/train.csv')\n",
    "print('Training data shape: ', train.shape().data())\n",
    "# train.head().data()\n",
    "\n",
    "test = execution_environment.load(root_data + '/test.csv')\n",
    "print('Testing data shape: ', test.shape().data())\n",
    "# test.head().data()\n",
    "\n",
    "test_labels = execution_environment.load(root_data + '/test_labels.csv')\n",
    "print('Testing lables shape: ', test_labels.shape().data())\n",
    "# test_labels.head().data()"
   ]
  },
  {
   "cell_type": "markdown",
   "id": "8c66c31a",
   "metadata": {},
   "source": [
    "## EDA"
   ]
  },
  {
   "cell_type": "code",
   "execution_count": 27,
   "id": "0573e3cd",
   "metadata": {},
   "outputs": [
    {
     "data": {
      "image/png": "[encoded data removed]",
      "text/plain": [
       "<Figure size 640x480 with 1 Axes>"
      ]
     },
     "metadata": {},
     "output_type": "display_data"
    }
   ],
   "source": [
    "plt.scatter(train['TV'].data(), train['Sales'].data(), c = 'b', label = \"Training\")\n",
    "plt.scatter(test['TV'].data(), test_labels['Sales'].data(), c = 'g', label = \"Test\")\n",
    "plt.legend()\n",
    "plt.show()"
   ]
  },
  {
   "cell_type": "markdown",
   "id": "32a08121",
   "metadata": {},
   "source": [
    "## LR Model"
   ]
  },
  {
   "cell_type": "code",
   "execution_count": 28,
   "id": "48852f40",
   "metadata": {},
   "outputs": [],
   "source": [
    "from experiment_graph.sklearn_helper.linear_model import LinearRegression"
   ]
  },
  {
   "cell_type": "code",
   "execution_count": 29,
   "id": "8090ccf9",
   "metadata": {},
   "outputs": [],
   "source": [
    "# from sklearn.linear_model import LinearRegression\n",
    "\n",
    "# # Creating an object of Linear Regression\n",
    "# lm = LinearRegression()\n",
    "\n",
    "# # Fit the model using .fit() method\n",
    "# lm.fit(X_train_lm, y_train_lm)\n",
    "\n",
    "lm = LinearRegression()\n",
    "\n",
    "train_labels = train['Sales']\n",
    "train_data = train.drop(columns=['Sales'])\n",
    "\n",
    "# Train on the training data\n",
    "lm.fit(train_data, train_labels)"
   ]
  },
  {
   "cell_type": "code",
   "execution_count": null,
   "id": "e8399dde",
   "metadata": {},
   "outputs": [],
   "source": []
  },
  {
   "cell_type": "markdown",
   "id": "66210d48",
   "metadata": {},
   "source": [
    "## Predict"
   ]
  },
  {
   "cell_type": "code",
   "execution_count": 30,
   "id": "dc3422e8",
   "metadata": {},
   "outputs": [],
   "source": [
    "# # Making Predictions of y_value\n",
    "# y_train_pred = lm.predict(X_train_lm)\n",
    "# y_test_pred = lm.predict(X_test_lm)\n",
    "y_train_pred = lm.predict(train_data)\n",
    "y_test_pred = lm.predict(test)"
   ]
  },
  {
   "cell_type": "code",
   "execution_count": 31,
   "id": "194ac820",
   "metadata": {},
   "outputs": [
    {
     "data": {
      "image/png": "[encoded data removed]",
      "text/plain": [
       "<Figure size 640x480 with 1 Axes>"
      ]
     },
     "metadata": {},
     "output_type": "display_data"
    }
   ],
   "source": [
    "# Visualize the line on the test set\n",
    "plt.scatter(test.data(), test_labels['Sales'].data(), c = 'g')\n",
    "plt.plot(list(test.data()['TV']), list(y_test_pred.data()[0]), 'r')\n",
    "plt.show()"
   ]
  },
  {
   "cell_type": "markdown",
   "id": "dcbb04b5",
   "metadata": {},
   "source": [
    "## Evaluate"
   ]
  },
  {
   "cell_type": "code",
   "execution_count": 32,
   "id": "dde88a27",
   "metadata": {},
   "outputs": [
    {
     "name": "stdout",
     "output_type": "stream",
     "text": [
      "Linear Regression with Train R2 score: {'r2': 0.8157933136480389}\n",
      "Linear Regression with Test R2 score: {'r2': 0.7921031601245662}\n"
     ]
    }
   ],
   "source": [
    "score = lm.score(train_data,\n",
    "                 train_labels,\n",
    "                 score_type='r2').data()\n",
    "print('Linear Regression with Train R2 score: {}'.format(score))\n",
    "\n",
    "score = lm.score(test,\n",
    "                 test_labels['Sales'],\n",
    "                 score_type='r2').data()\n",
    "print('Linear Regression with Test R2 score: {}'.format(score))"
   ]
  },
  {
   "cell_type": "markdown",
   "id": "fd31acee",
   "metadata": {},
   "source": [
    "## WorkloadDAG"
   ]
  },
  {
   "cell_type": "code",
   "execution_count": 71,
   "id": "4558ae2a",
   "metadata": {},
   "outputs": [],
   "source": [
    "import copy\n",
    "from collections import deque\n",
    "from datetime import datetime\n",
    "\n",
    "import networkx as nx\n",
    "import numpy as np\n",
    "\n",
    "# Reserved word for representing super graph.\n",
    "# Do not use combine as an operation name\n",
    "# TODO: make file with all the global names\n",
    "from experiment_graph.graph.auxilary import DataFrame, DataSeries\n",
    "from experiment_graph.data_storage import SimpleStorageManager\n",
    "from experiment_graph.globals import COMBINE_OPERATION_IDENTIFIER\n",
    "\n",
    "def plot_graph_input(graph_input, plt, figsize=(12, 12), labels_for_vertex=['size'], labels_for_edges=['name'], vertex_size=1000,\n",
    "                   vertex_font_size=10):\n",
    "        \"\"\"\n",
    "        plot the graph using the graphvix dot layout\n",
    "        :param vertex_font_size:\n",
    "        :param vertex_size:\n",
    "        :param labels_for_edges:\n",
    "        :param labels_for_vertex:\n",
    "        :param figsize: size of the figure (default (12,12))\n",
    "        :param plt: matlibplot object\n",
    "        \"\"\"\n",
    "        from networkx.drawing.nx_agraph import graphviz_layout\n",
    "        f = plt.figure(figsize=figsize)\n",
    "        ax = f.add_subplot(1, 1, 1)\n",
    "        pos = graphviz_layout(graph_input.graph, prog='dot', args='')\n",
    "\n",
    "        # get the list of available types and frequency of each node\n",
    "        vertex_labels = {}\n",
    "        unique_types = []\n",
    "\n",
    "        for node in graph_input.graph.nodes(data=True):\n",
    "            if node[1]['type'] not in unique_types:\n",
    "                unique_types.append(node[1]['type'])\n",
    "            labels = []\n",
    "            for p in labels_for_vertex:\n",
    "\n",
    "                if p == 'id':\n",
    "                    if node[1]['root']:\n",
    "                        labels.append('root')\n",
    "                    else:\n",
    "                        labels.append(node[0][:10])\n",
    "                if p not in node[1]:\n",
    "                    labels.append('-')\n",
    "                elif type(node[1][p]) is np.float64 or type(node[1][p]) is float:\n",
    "                    labels.append('{:.3f}'.format(node[1][p]))\n",
    "                else:\n",
    "                    labels.append(str(node[1][p]))\n",
    "\n",
    "            vertex_labels[node[0]] = ','.join(labels)\n",
    "\n",
    "        jet = plt.get_cmap('gist_rainbow')\n",
    "        colors = jet(np.linspace(0, 1, len(unique_types)))\n",
    "        color_map = dict(zip(unique_types, colors))\n",
    "        for label in color_map:\n",
    "            ax.scatter(None, None, color=color_map[label], label=label)\n",
    "\n",
    "        # TODO there's a problem with nodelist=...., the node type and legends dont match\n",
    "        # materialized_nodes = [n[0] for n in graph_input.graph.node(data='mat') if n[1]]\n",
    "        materialized_nodes = [n[0] for n in graph_input.graph.nodes(data='mat') if n[1]]\n",
    "        # all_colors = [color_map[n[1]['type']] for n in graph_input.graph.nodes(data=True) if n[1]['mat']]\n",
    "        all_colors = [color_map[n[1]['type']] for n in graph_input.graph.nodes(data=True) if 'mat' in n[1]]\n",
    "        nx.draw_networkx(\n",
    "            graph_input.graph,\n",
    "            node_size=vertex_size,\n",
    "            nodelist=materialized_nodes,\n",
    "            cmap=jet,\n",
    "            # vmin=0,\n",
    "            # vmax=len(unique_types),\n",
    "            node_color=all_colors,\n",
    "            node_shape='s',\n",
    "            pos=pos,\n",
    "            with_labels=False,\n",
    "            ax=ax)\n",
    "\n",
    "        # non_materialized_nodes = [n[0] for n in graph_input.graph.node(data='mat') if not n[1]]\n",
    "        non_materialized_nodes = [n[0] for n in graph_input.graph.nodes(data='mat') if not n[1]]\n",
    "        # all_colors = [color_map[n[1]['type']] for n in graph_input.graph.nodes(data=True) if not n[1]['mat']]\n",
    "        all_colors = [color_map[n[1]['type']] for n in graph_input.graph.nodes(data=True) if 'mat' not in n[1]]\n",
    "        nx.draw_networkx(\n",
    "            graph_input.graph,\n",
    "            edgelist=[],\n",
    "            node_size=vertex_size,\n",
    "            nodelist=non_materialized_nodes,\n",
    "            cmap=jet,\n",
    "            # vmin=0,\n",
    "            # vmax=len(unique_types),\n",
    "            node_color=all_colors,\n",
    "            node_shape='o',\n",
    "            pos=pos,\n",
    "            with_labels=False,\n",
    "            ax=ax)\n",
    "\n",
    "        if labels_for_vertex:\n",
    "            nx.draw_networkx_labels(graph_input.graph,\n",
    "                                    pos=pos,\n",
    "                                    labels=vertex_labels,\n",
    "                                    font_size=vertex_font_size)\n",
    "\n",
    "        def construct_label(edge_data, edge_labels):\n",
    "            return ','.join(['' if str(edge_data[l]) == 'combine' else str(edge_data[l]) for l in edge_labels])\n",
    "\n",
    "        nx.draw_networkx_edge_labels(\n",
    "            graph_input.graph,\n",
    "            pos=pos,\n",
    "            edge_labels={(u, v): construct_label(d, labels_for_edges) for u, v, d in graph_input.graph.edges(data=True)})\n",
    "\n",
    "        plt.axis('off')\n",
    "        f.set_facecolor('w')\n",
    "        leg = ax.legend(markerscale=3, loc='best', fontsize=12, scatterpoints=1, labelspacing=1.5)\n",
    "\n",
    "        for line in leg.get_lines():\n",
    "            line.set_linewidth(4.0)\n"
   ]
  },
  {
   "cell_type": "code",
   "execution_count": 221,
   "id": "8b14e36e",
   "metadata": {},
   "outputs": [
    {
     "data": {
      "image/png": "[encoded data removed]",
      "text/plain": [
       "<Figure size 2400x2400 with 1 Axes>"
      ]
     },
     "metadata": {},
     "output_type": "display_data"
    }
   ],
   "source": [
    "plot_graph_input(execution_environment.workload_dag, \n",
    "                 plt, \n",
    "                 vertex_size=500, \n",
    "                 figsize=(24, 24), \n",
    "                 vertex_font_size=10, \n",
    "                 labels_for_vertex = [])"
   ]
  },
  {
   "cell_type": "code",
   "execution_count": 76,
   "id": "8c916bb0",
   "metadata": {},
   "outputs": [],
   "source": [
    "import plotly.graph_objects as go"
   ]
  },
  {
   "cell_type": "code",
   "execution_count": 77,
   "id": "80b1d52a",
   "metadata": {},
   "outputs": [],
   "source": [
    "G = execution_environment.workload_dag.graph"
   ]
  },
  {
   "cell_type": "code",
   "execution_count": 95,
   "id": "6f1b209a",
   "metadata": {},
   "outputs": [],
   "source": [
    "# Get positions for the nodes in G\n",
    "# pos_ = nx.spring_layout(G)\n",
    "\n",
    "from networkx.drawing.nx_agraph import graphviz_layout\n",
    "pos_ = graphviz_layout(G, prog='dot', args='')"
   ]
  },
  {
   "cell_type": "code",
   "execution_count": 140,
   "id": "2d88607e",
   "metadata": {},
   "outputs": [],
   "source": [
    "# Custom function to create an edge between node x and node y, with a given text and width\n",
    "def make_edge(x, y, text, width):\n",
    "    return  go.Scatter(x         = x,\n",
    "                       y         = y,\n",
    "                       line      = dict(width = width,\n",
    "                                   color = 'cornflowerblue'),\n",
    "                       hoverinfo = 'text',\n",
    "                       text      = ([text]),\n",
    "                       mode      = 'lines')\n",
    "def make_edge_text(x, y, text, width):\n",
    "    return  go.Scatter(x            = x,\n",
    "                       y            = y,\n",
    "                       textposition ='bottom center',\n",
    "                       hoverinfo    = 'text',\n",
    "                       text         = ([text]),\n",
    "                       mode         = 'text')"
   ]
  },
  {
   "cell_type": "code",
   "execution_count": 207,
   "id": "3cb7df10",
   "metadata": {},
   "outputs": [],
   "source": [
    "# For each edge, make an edge_trace, append to list\n",
    "edge_trace = []\n",
    "for edge in G.edges(data=True):\n",
    "    x0, y0 = pos_[edge[0]]\n",
    "    x1, y1 = pos_[edge[1]]\n",
    "    text   = str(edge[2]['name'])\n",
    "    trace  = make_edge([x0, x1, None],\n",
    "                       [y0, y1, None],\n",
    "                       text,\n",
    "                       width = 1)\n",
    "    edge_trace.append(trace)\n",
    "\n",
    "edge_text_trace = []\n",
    "for edge in G.edges(data=True):\n",
    "    x0, y0 = pos_[edge[0]]\n",
    "    x1, y1 = pos_[edge[1]]\n",
    "    text   = str(edge[2]['name'])\n",
    "    trace  = make_edge_text([(x0+x1)/2, x1, None],\n",
    "                       [(y0+y1)/2, y1, None],\n",
    "                       text,\n",
    "                       width = 1)\n",
    "    edge_text_trace.append(trace)"
   ]
  },
  {
   "cell_type": "code",
   "execution_count": 208,
   "id": "094c6c97",
   "metadata": {},
   "outputs": [],
   "source": [
    "unique_types = []\n",
    "for node in G.nodes(data=True):\n",
    "    if node[1]['type'] not in unique_types:\n",
    "        unique_types.append(node[1]['type'])\n",
    "labels = []\n",
    "jet = plt.get_cmap('gist_rainbow')\n",
    "colors = jet(np.linspace(0, 1, len(unique_types)))\n",
    "color_map = dict(zip(unique_types, colors))\n",
    "# color_map"
   ]
  },
  {
   "cell_type": "code",
   "execution_count": 209,
   "id": "31bc3d97",
   "metadata": {},
   "outputs": [],
   "source": [
    "# Make a node trace\n",
    "node_trace = go.Scatter(x         = [],\n",
    "                        y         = [],\n",
    "                        text      = [],\n",
    "                        textposition = \"top center\",\n",
    "                        textfont_size = 10,\n",
    "                        mode      = 'markers+text',\n",
    "                        hoverinfo = 'none',\n",
    "                        marker    = dict(\n",
    "#                                         showscale=True,\n",
    "                                        # colorscale options\n",
    "                                        #'Greys' | 'YlGnBu' | 'Greens' | 'YlOrRd' | 'Bluered' | 'RdBu' |\n",
    "                                        #'Reds' | 'Blues' | 'Picnic' | 'Rainbow' | 'Portland' | 'Jet' |\n",
    "                                        #'Hot' | 'Blackbody' | 'Earth' | 'Electric' | 'Viridis' |\n",
    "                                        colorscale='YlGnBu',\n",
    "                                        reversescale=True,\n",
    "                                        color=[],\n",
    "                                        size=10,\n",
    "#                                         colorbar=dict(\n",
    "#                                             thickness=15,\n",
    "#                                             title='Node Connections',\n",
    "#                                             xanchor='left',\n",
    "#                                             titleside='right'\n",
    "#                                         ),\n",
    "                                        line_width=2)\n",
    "#                                     dict(\n",
    "#                                         color = [],\n",
    "#                                         size  = [],\n",
    "#                                         line  = None)\n",
    "                       )\n",
    "# For each node in midsummer, get the position and size and add to the node_trace\n",
    "for node in G.nodes(data=True):\n",
    "#     print(node)\n",
    "    x, y = pos_[node[0]]\n",
    "    node_trace['x'] += tuple([x])\n",
    "    node_trace['y'] += tuple([y])\n",
    "    node_trace['marker']['color'] += tuple(['cornflowerblue'])\n",
    "    node_trace['marker']['size'] += 0.5#tuple([10])\n",
    "#     node_trace['text'] += tuple(['<b>' + node + '</b>'])"
   ]
  },
  {
   "cell_type": "code",
   "execution_count": 217,
   "id": "451ad8d5",
   "metadata": {},
   "outputs": [
    {
     "data": {
      "application/vnd.plotly.v1+json": {
       "config": {
        "plotlyServerURL": "https://plot.ly"
       },
       "data": [
        {
         "hoverinfo": "text",
         "line": {
          "color": "cornflowerblue",
          "width": 1
         },
         "mode": "lines",
         "text": [
          "shape"
         ],
         "type": "scatter",
         "x": [
          1265.8,
          730.79,
          null
         ],
         "y": [
          378,
          306,
          null
         ]
        },
        {
         "hoverinfo": "text",
         "line": {
          "color": "cornflowerblue",
          "width": 1
         },
         "mode": "lines",
         "text": [
          "project"
         ],
         "type": "scatter",
         "x": [
          1265.8,
          1087.8,
          null
         ],
         "y": [
          378,
          306,
          null
         ]
        },
        {
         "hoverinfo": "text",
         "line": {
          "color": "cornflowerblue",
          "width": 1
         },
         "mode": "lines",
         "text": [
          "project"
         ],
         "type": "scatter",
         "x": [
          1265.8,
          1443.8,
          null
         ],
         "y": [
          378,
          306,
          null
         ]
        },
        {
         "hoverinfo": "text",
         "line": {
          "color": "cornflowerblue",
          "width": 1
         },
         "mode": "lines",
         "text": [
          "drop"
         ],
         "type": "scatter",
         "x": [
          1265.8,
          1800.8,
          null
         ],
         "y": [
          378,
          306,
          null
         ]
        },
        {
         "hoverinfo": "text",
         "line": {
          "color": "cornflowerblue",
          "width": 1
         },
         "mode": "lines",
         "text": [
          "shape"
         ],
         "type": "scatter",
         "x": [
          577.79,
          163.79,
          null
         ],
         "y": [
          162,
          90,
          null
         ]
        },
        {
         "hoverinfo": "text",
         "line": {
          "color": "cornflowerblue",
          "width": 1
         },
         "mode": "lines",
         "text": [
          "project"
         ],
         "type": "scatter",
         "x": [
          577.79,
          516.79,
          null
         ],
         "y": [
          162,
          90,
          null
         ]
        },
        {
         "hoverinfo": "text",
         "line": {
          "color": "cornflowerblue",
          "width": 1
         },
         "mode": "lines",
         "text": [
          "combine"
         ],
         "type": "scatter",
         "x": [
          577.79,
          1220.8,
          null
         ],
         "y": [
          162,
          90,
          null
         ]
        },
        {
         "hoverinfo": "text",
         "line": {
          "color": "cornflowerblue",
          "width": 1
         },
         "mode": "lines",
         "text": [
          "combine"
         ],
         "type": "scatter",
         "x": [
          577.79,
          870.79,
          null
         ],
         "y": [
          162,
          90,
          null
         ]
        },
        {
         "hoverinfo": "text",
         "line": {
          "color": "cornflowerblue",
          "width": 1
         },
         "mode": "lines",
         "text": [
          "shape"
         ],
         "type": "scatter",
         "x": [
          1020.8,
          1200.8,
          null
         ],
         "y": [
          234,
          162,
          null
         ]
        },
        {
         "hoverinfo": "text",
         "line": {
          "color": "cornflowerblue",
          "width": 1
         },
         "mode": "lines",
         "text": [
          "project"
         ],
         "type": "scatter",
         "x": [
          1020.8,
          840.79,
          null
         ],
         "y": [
          234,
          162,
          null
         ]
        },
        {
         "hoverinfo": "text",
         "line": {
          "color": "cornflowerblue",
          "width": 1
         },
         "mode": "lines",
         "text": [
          "combine"
         ],
         "type": "scatter",
         "x": [
          1443.8,
          1601.8,
          null
         ],
         "y": [
          306,
          234,
          null
         ]
        },
        {
         "hoverinfo": "text",
         "line": {
          "color": "cornflowerblue",
          "width": 1
         },
         "mode": "lines",
         "text": [
          "combine"
         ],
         "type": "scatter",
         "x": [
          1443.8,
          1571.8,
          null
         ],
         "y": [
          306,
          90,
          null
         ]
        },
        {
         "hoverinfo": "text",
         "line": {
          "color": "cornflowerblue",
          "width": 1
         },
         "mode": "lines",
         "text": [
          "combine"
         ],
         "type": "scatter",
         "x": [
          840.79,
          870.79,
          null
         ],
         "y": [
          162,
          90,
          null
         ]
        },
        {
         "hoverinfo": "text",
         "line": {
          "color": "cornflowerblue",
          "width": 1
         },
         "mode": "lines",
         "text": [
          "combine"
         ],
         "type": "scatter",
         "x": [
          1800.8,
          1601.8,
          null
         ],
         "y": [
          306,
          234,
          null
         ]
        },
        {
         "hoverinfo": "text",
         "line": {
          "color": "cornflowerblue",
          "width": 1
         },
         "mode": "lines",
         "text": [
          "combine"
         ],
         "type": "scatter",
         "x": [
          1800.8,
          1928.8,
          null
         ],
         "y": [
          306,
          90,
          null
         ]
        },
        {
         "hoverinfo": "text",
         "line": {
          "color": "cornflowerblue",
          "width": 1
         },
         "mode": "lines",
         "text": [
          "combine"
         ],
         "type": "scatter",
         "x": [
          1800.8,
          1571.8,
          null
         ],
         "y": [
          306,
          90,
          null
         ]
        },
        {
         "hoverinfo": "text",
         "line": {
          "color": "cornflowerblue",
          "width": 1
         },
         "mode": "lines",
         "text": [
          "LinearRegression"
         ],
         "type": "scatter",
         "x": [
          1601.8,
          1601.8,
          null
         ],
         "y": [
          234,
          162,
          null
         ]
        },
        {
         "hoverinfo": "text",
         "line": {
          "color": "cornflowerblue",
          "width": 1
         },
         "mode": "lines",
         "text": [
          "combine"
         ],
         "type": "scatter",
         "x": [
          1601.8,
          1928.8,
          null
         ],
         "y": [
          162,
          90,
          null
         ]
        },
        {
         "hoverinfo": "text",
         "line": {
          "color": "cornflowerblue",
          "width": 1
         },
         "mode": "lines",
         "text": [
          "combine"
         ],
         "type": "scatter",
         "x": [
          1601.8,
          1220.8,
          null
         ],
         "y": [
          162,
          90,
          null
         ]
        },
        {
         "hoverinfo": "text",
         "line": {
          "color": "cornflowerblue",
          "width": 1
         },
         "mode": "lines",
         "text": [
          "combine"
         ],
         "type": "scatter",
         "x": [
          1601.8,
          1571.8,
          null
         ],
         "y": [
          162,
          90,
          null
         ]
        },
        {
         "hoverinfo": "text",
         "line": {
          "color": "cornflowerblue",
          "width": 1
         },
         "mode": "lines",
         "text": [
          "combine"
         ],
         "type": "scatter",
         "x": [
          1601.8,
          870.79,
          null
         ],
         "y": [
          162,
          90,
          null
         ]
        },
        {
         "hoverinfo": "text",
         "line": {
          "color": "cornflowerblue",
          "width": 1
         },
         "mode": "lines",
         "text": [
          "predict"
         ],
         "type": "scatter",
         "x": [
          1928.8,
          1928.8,
          null
         ],
         "y": [
          90,
          18,
          null
         ]
        },
        {
         "hoverinfo": "text",
         "line": {
          "color": "cornflowerblue",
          "width": 1
         },
         "mode": "lines",
         "text": [
          "predict"
         ],
         "type": "scatter",
         "x": [
          1220.8,
          1220.8,
          null
         ],
         "y": [
          90,
          18,
          null
         ]
        },
        {
         "hoverinfo": "text",
         "line": {
          "color": "cornflowerblue",
          "width": 1
         },
         "mode": "lines",
         "text": [
          "score"
         ],
         "type": "scatter",
         "x": [
          1571.8,
          1573.8,
          null
         ],
         "y": [
          90,
          18,
          null
         ]
        },
        {
         "hoverinfo": "text",
         "line": {
          "color": "cornflowerblue",
          "width": 1
         },
         "mode": "lines",
         "text": [
          "score"
         ],
         "type": "scatter",
         "x": [
          870.79,
          868.79,
          null
         ],
         "y": [
          90,
          18,
          null
         ]
        },
        {
         "hoverinfo": "text",
         "mode": "text",
         "text": [
          "shape"
         ],
         "textposition": "bottom center",
         "type": "scatter",
         "x": [
          998.295,
          730.79,
          null
         ],
         "y": [
          342,
          306,
          null
         ]
        },
        {
         "hoverinfo": "text",
         "mode": "text",
         "text": [
          "project"
         ],
         "textposition": "bottom center",
         "type": "scatter",
         "x": [
          1176.8,
          1087.8,
          null
         ],
         "y": [
          342,
          306,
          null
         ]
        },
        {
         "hoverinfo": "text",
         "mode": "text",
         "text": [
          "project"
         ],
         "textposition": "bottom center",
         "type": "scatter",
         "x": [
          1354.8,
          1443.8,
          null
         ],
         "y": [
          342,
          306,
          null
         ]
        },
        {
         "hoverinfo": "text",
         "mode": "text",
         "text": [
          "drop"
         ],
         "textposition": "bottom center",
         "type": "scatter",
         "x": [
          1533.3,
          1800.8,
          null
         ],
         "y": [
          342,
          306,
          null
         ]
        },
        {
         "hoverinfo": "text",
         "mode": "text",
         "text": [
          "shape"
         ],
         "textposition": "bottom center",
         "type": "scatter",
         "x": [
          370.78999999999996,
          163.79,
          null
         ],
         "y": [
          126,
          90,
          null
         ]
        },
        {
         "hoverinfo": "text",
         "mode": "text",
         "text": [
          "project"
         ],
         "textposition": "bottom center",
         "type": "scatter",
         "x": [
          547.29,
          516.79,
          null
         ],
         "y": [
          126,
          90,
          null
         ]
        },
        {
         "hoverinfo": "text",
         "mode": "text",
         "text": [
          "combine"
         ],
         "textposition": "bottom center",
         "type": "scatter",
         "x": [
          899.295,
          1220.8,
          null
         ],
         "y": [
          126,
          90,
          null
         ]
        },
        {
         "hoverinfo": "text",
         "mode": "text",
         "text": [
          "combine"
         ],
         "textposition": "bottom center",
         "type": "scatter",
         "x": [
          724.29,
          870.79,
          null
         ],
         "y": [
          126,
          90,
          null
         ]
        },
        {
         "hoverinfo": "text",
         "mode": "text",
         "text": [
          "shape"
         ],
         "textposition": "bottom center",
         "type": "scatter",
         "x": [
          1110.8,
          1200.8,
          null
         ],
         "y": [
          198,
          162,
          null
         ]
        },
        {
         "hoverinfo": "text",
         "mode": "text",
         "text": [
          "project"
         ],
         "textposition": "bottom center",
         "type": "scatter",
         "x": [
          930.795,
          840.79,
          null
         ],
         "y": [
          198,
          162,
          null
         ]
        },
        {
         "hoverinfo": "text",
         "mode": "text",
         "text": [
          "combine"
         ],
         "textposition": "bottom center",
         "type": "scatter",
         "x": [
          1522.8,
          1601.8,
          null
         ],
         "y": [
          270,
          234,
          null
         ]
        },
        {
         "hoverinfo": "text",
         "mode": "text",
         "text": [
          "combine"
         ],
         "textposition": "bottom center",
         "type": "scatter",
         "x": [
          1507.8,
          1571.8,
          null
         ],
         "y": [
          198,
          90,
          null
         ]
        },
        {
         "hoverinfo": "text",
         "mode": "text",
         "text": [
          "combine"
         ],
         "textposition": "bottom center",
         "type": "scatter",
         "x": [
          855.79,
          870.79,
          null
         ],
         "y": [
          126,
          90,
          null
         ]
        },
        {
         "hoverinfo": "text",
         "mode": "text",
         "text": [
          "combine"
         ],
         "textposition": "bottom center",
         "type": "scatter",
         "x": [
          1701.3,
          1601.8,
          null
         ],
         "y": [
          270,
          234,
          null
         ]
        },
        {
         "hoverinfo": "text",
         "mode": "text",
         "text": [
          "combine"
         ],
         "textposition": "bottom center",
         "type": "scatter",
         "x": [
          1864.8,
          1928.8,
          null
         ],
         "y": [
          198,
          90,
          null
         ]
        },
        {
         "hoverinfo": "text",
         "mode": "text",
         "text": [
          "combine"
         ],
         "textposition": "bottom center",
         "type": "scatter",
         "x": [
          1686.3,
          1571.8,
          null
         ],
         "y": [
          198,
          90,
          null
         ]
        },
        {
         "hoverinfo": "text",
         "mode": "text",
         "text": [
          "LinearRegression"
         ],
         "textposition": "bottom center",
         "type": "scatter",
         "x": [
          1601.8,
          1601.8,
          null
         ],
         "y": [
          198,
          162,
          null
         ]
        },
        {
         "hoverinfo": "text",
         "mode": "text",
         "text": [
          "combine"
         ],
         "textposition": "bottom center",
         "type": "scatter",
         "x": [
          1765.3,
          1928.8,
          null
         ],
         "y": [
          126,
          90,
          null
         ]
        },
        {
         "hoverinfo": "text",
         "mode": "text",
         "text": [
          "combine"
         ],
         "textposition": "bottom center",
         "type": "scatter",
         "x": [
          1411.3,
          1220.8,
          null
         ],
         "y": [
          126,
          90,
          null
         ]
        },
        {
         "hoverinfo": "text",
         "mode": "text",
         "text": [
          "combine"
         ],
         "textposition": "bottom center",
         "type": "scatter",
         "x": [
          1586.8,
          1571.8,
          null
         ],
         "y": [
          126,
          90,
          null
         ]
        },
        {
         "hoverinfo": "text",
         "mode": "text",
         "text": [
          "combine"
         ],
         "textposition": "bottom center",
         "type": "scatter",
         "x": [
          1236.295,
          870.79,
          null
         ],
         "y": [
          126,
          90,
          null
         ]
        },
        {
         "hoverinfo": "text",
         "mode": "text",
         "text": [
          "predict"
         ],
         "textposition": "bottom center",
         "type": "scatter",
         "x": [
          1928.8,
          1928.8,
          null
         ],
         "y": [
          54,
          18,
          null
         ]
        },
        {
         "hoverinfo": "text",
         "mode": "text",
         "text": [
          "predict"
         ],
         "textposition": "bottom center",
         "type": "scatter",
         "x": [
          1220.8,
          1220.8,
          null
         ],
         "y": [
          54,
          18,
          null
         ]
        },
        {
         "hoverinfo": "text",
         "mode": "text",
         "text": [
          "score"
         ],
         "textposition": "bottom center",
         "type": "scatter",
         "x": [
          1572.8,
          1573.8,
          null
         ],
         "y": [
          54,
          18,
          null
         ]
        },
        {
         "hoverinfo": "text",
         "mode": "text",
         "text": [
          "score"
         ],
         "textposition": "bottom center",
         "type": "scatter",
         "x": [
          869.79,
          868.79,
          null
         ],
         "y": [
          54,
          18,
          null
         ]
        },
        {
         "hoverinfo": "none",
         "marker": {
          "color": [
           "cornflowerblue",
           "cornflowerblue",
           "cornflowerblue",
           "cornflowerblue",
           "cornflowerblue",
           "cornflowerblue",
           "cornflowerblue",
           "cornflowerblue",
           "cornflowerblue",
           "cornflowerblue",
           "cornflowerblue",
           "cornflowerblue",
           "cornflowerblue",
           "cornflowerblue",
           "cornflowerblue",
           "cornflowerblue",
           "cornflowerblue",
           "cornflowerblue",
           "cornflowerblue",
           "cornflowerblue",
           "cornflowerblue"
          ],
          "colorscale": [
           [
            0,
            "rgb(255,255,217)"
           ],
           [
            0.125,
            "rgb(237,248,177)"
           ],
           [
            0.25,
            "rgb(199,233,180)"
           ],
           [
            0.375,
            "rgb(127,205,187)"
           ],
           [
            0.5,
            "rgb(65,182,196)"
           ],
           [
            0.625,
            "rgb(29,145,192)"
           ],
           [
            0.75,
            "rgb(34,94,168)"
           ],
           [
            0.875,
            "rgb(37,52,148)"
           ],
           [
            1,
            "rgb(8,29,88)"
           ]
          ],
          "line": {
           "width": 2
          },
          "reversescale": true,
          "size": 20.5
         },
         "mode": "markers+text",
         "text": [],
         "textfont": {
          "size": 10
         },
         "textposition": "top center",
         "type": "scatter",
         "x": [
          1265.8,
          730.79,
          577.79,
          163.79,
          1020.8,
          1200.8,
          1087.8,
          1443.8,
          516.79,
          840.79,
          1800.8,
          1601.8,
          1601.8,
          1928.8,
          1928.8,
          1220.8,
          1220.8,
          1571.8,
          1573.8,
          870.79,
          868.79
         ],
         "y": [
          378,
          306,
          162,
          90,
          234,
          162,
          306,
          306,
          90,
          162,
          306,
          234,
          162,
          90,
          18,
          90,
          18,
          90,
          18,
          90,
          18
         ]
        }
       ],
       "layout": {
        "paper_bgcolor": "rgba(0,0,0,0)",
        "plot_bgcolor": "rgba(0,0,0,0)",
        "showlegend": false,
        "template": {
         "data": {
          "bar": [
           {
            "error_x": {
             "color": "#2a3f5f"
            },
            "error_y": {
             "color": "#2a3f5f"
            },
            "marker": {
             "line": {
              "color": "#E5ECF6",
              "width": 0.5
             },
             "pattern": {
              "fillmode": "overlay",
              "size": 10,
              "solidity": 0.2
             }
            },
            "type": "bar"
           }
          ],
          "barpolar": [
           {
            "marker": {
             "line": {
              "color": "#E5ECF6",
              "width": 0.5
             },
             "pattern": {
              "fillmode": "overlay",
              "size": 10,
              "solidity": 0.2
             }
            },
            "type": "barpolar"
           }
          ],
          "carpet": [
           {
            "aaxis": {
             "endlinecolor": "#2a3f5f",
             "gridcolor": "white",
             "linecolor": "white",
             "minorgridcolor": "white",
             "startlinecolor": "#2a3f5f"
            },
            "baxis": {
             "endlinecolor": "#2a3f5f",
             "gridcolor": "white",
             "linecolor": "white",
             "minorgridcolor": "white",
             "startlinecolor": "#2a3f5f"
            },
            "type": "carpet"
           }
          ],
          "choropleth": [
           {
            "colorbar": {
             "outlinewidth": 0,
             "ticks": ""
            },
            "type": "choropleth"
           }
          ],
          "contour": [
           {
            "colorbar": {
             "outlinewidth": 0,
             "ticks": ""
            },
            "colorscale": [
             [
              0,
              "#0d0887"
             ],
             [
              0.1111111111111111,
              "#46039f"
             ],
             [
              0.2222222222222222,
              "#7201a8"
             ],
             [
              0.3333333333333333,
              "#9c179e"
             ],
             [
              0.4444444444444444,
              "#bd3786"
             ],
             [
              0.5555555555555556,
              "#d8576b"
             ],
             [
              0.6666666666666666,
              "#ed7953"
             ],
             [
              0.7777777777777778,
              "#fb9f3a"
             ],
             [
              0.8888888888888888,
              "#fdca26"
             ],
             [
              1,
              "#f0f921"
             ]
            ],
            "type": "contour"
           }
          ],
          "contourcarpet": [
           {
            "colorbar": {
             "outlinewidth": 0,
             "ticks": ""
            },
            "type": "contourcarpet"
           }
          ],
          "heatmap": [
           {
            "colorbar": {
             "outlinewidth": 0,
             "ticks": ""
            },
            "colorscale": [
             [
              0,
              "#0d0887"
             ],
             [
              0.1111111111111111,
              "#46039f"
             ],
             [
              0.2222222222222222,
              "#7201a8"
             ],
             [
              0.3333333333333333,
              "#9c179e"
             ],
             [
              0.4444444444444444,
              "#bd3786"
             ],
             [
              0.5555555555555556,
              "#d8576b"
             ],
             [
              0.6666666666666666,
              "#ed7953"
             ],
             [
              0.7777777777777778,
              "#fb9f3a"
             ],
             [
              0.8888888888888888,
              "#fdca26"
             ],
             [
              1,
              "#f0f921"
             ]
            ],
            "type": "heatmap"
           }
          ],
          "heatmapgl": [
           {
            "colorbar": {
             "outlinewidth": 0,
             "ticks": ""
            },
            "colorscale": [
             [
              0,
              "#0d0887"
             ],
             [
              0.1111111111111111,
              "#46039f"
             ],
             [
              0.2222222222222222,
              "#7201a8"
             ],
             [
              0.3333333333333333,
              "#9c179e"
             ],
             [
              0.4444444444444444,
              "#bd3786"
             ],
             [
              0.5555555555555556,
              "#d8576b"
             ],
             [
              0.6666666666666666,
              "#ed7953"
             ],
             [
              0.7777777777777778,
              "#fb9f3a"
             ],
             [
              0.8888888888888888,
              "#fdca26"
             ],
             [
              1,
              "#f0f921"
             ]
            ],
            "type": "heatmapgl"
           }
          ],
          "histogram": [
           {
            "marker": {
             "pattern": {
              "fillmode": "overlay",
              "size": 10,
              "solidity": 0.2
             }
            },
            "type": "histogram"
           }
          ],
          "histogram2d": [
           {
            "colorbar": {
             "outlinewidth": 0,
             "ticks": ""
            },
            "colorscale": [
             [
              0,
              "#0d0887"
             ],
             [
              0.1111111111111111,
              "#46039f"
             ],
             [
              0.2222222222222222,
              "#7201a8"
             ],
             [
              0.3333333333333333,
              "#9c179e"
             ],
             [
              0.4444444444444444,
              "#bd3786"
             ],
             [
              0.5555555555555556,
              "#d8576b"
             ],
             [
              0.6666666666666666,
              "#ed7953"
             ],
             [
              0.7777777777777778,
              "#fb9f3a"
             ],
             [
              0.8888888888888888,
              "#fdca26"
             ],
             [
              1,
              "#f0f921"
             ]
            ],
            "type": "histogram2d"
           }
          ],
          "histogram2dcontour": [
           {
            "colorbar": {
             "outlinewidth": 0,
             "ticks": ""
            },
            "colorscale": [
             [
              0,
              "#0d0887"
             ],
             [
              0.1111111111111111,
              "#46039f"
             ],
             [
              0.2222222222222222,
              "#7201a8"
             ],
             [
              0.3333333333333333,
              "#9c179e"
             ],
             [
              0.4444444444444444,
              "#bd3786"
             ],
             [
              0.5555555555555556,
              "#d8576b"
             ],
             [
              0.6666666666666666,
              "#ed7953"
             ],
             [
              0.7777777777777778,
              "#fb9f3a"
             ],
             [
              0.8888888888888888,
              "#fdca26"
             ],
             [
              1,
              "#f0f921"
             ]
            ],
            "type": "histogram2dcontour"
           }
          ],
          "mesh3d": [
           {
            "colorbar": {
             "outlinewidth": 0,
             "ticks": ""
            },
            "type": "mesh3d"
           }
          ],
          "parcoords": [
           {
            "line": {
             "colorbar": {
              "outlinewidth": 0,
              "ticks": ""
             }
            },
            "type": "parcoords"
           }
          ],
          "pie": [
           {
            "automargin": true,
            "type": "pie"
           }
          ],
          "scatter": [
           {
            "fillpattern": {
             "fillmode": "overlay",
             "size": 10,
             "solidity": 0.2
            },
            "type": "scatter"
           }
          ],
          "scatter3d": [
           {
            "line": {
             "colorbar": {
              "outlinewidth": 0,
              "ticks": ""
             }
            },
            "marker": {
             "colorbar": {
              "outlinewidth": 0,
              "ticks": ""
             }
            },
            "type": "scatter3d"
           }
          ],
          "scattercarpet": [
           {
            "marker": {
             "colorbar": {
              "outlinewidth": 0,
              "ticks": ""
             }
            },
            "type": "scattercarpet"
           }
          ],
          "scattergeo": [
           {
            "marker": {
             "colorbar": {
              "outlinewidth": 0,
              "ticks": ""
             }
            },
            "type": "scattergeo"
           }
          ],
          "scattergl": [
           {
            "marker": {
             "colorbar": {
              "outlinewidth": 0,
              "ticks": ""
             }
            },
            "type": "scattergl"
           }
          ],
          "scattermapbox": [
           {
            "marker": {
             "colorbar": {
              "outlinewidth": 0,
              "ticks": ""
             }
            },
            "type": "scattermapbox"
           }
          ],
          "scatterpolar": [
           {
            "marker": {
             "colorbar": {
              "outlinewidth": 0,
              "ticks": ""
             }
            },
            "type": "scatterpolar"
           }
          ],
          "scatterpolargl": [
           {
            "marker": {
             "colorbar": {
              "outlinewidth": 0,
              "ticks": ""
             }
            },
            "type": "scatterpolargl"
           }
          ],
          "scatterternary": [
           {
            "marker": {
             "colorbar": {
              "outlinewidth": 0,
              "ticks": ""
             }
            },
            "type": "scatterternary"
           }
          ],
          "surface": [
           {
            "colorbar": {
             "outlinewidth": 0,
             "ticks": ""
            },
            "colorscale": [
             [
              0,
              "#0d0887"
             ],
             [
              0.1111111111111111,
              "#46039f"
             ],
             [
              0.2222222222222222,
              "#7201a8"
             ],
             [
              0.3333333333333333,
              "#9c179e"
             ],
             [
              0.4444444444444444,
              "#bd3786"
             ],
             [
              0.5555555555555556,
              "#d8576b"
             ],
             [
              0.6666666666666666,
              "#ed7953"
             ],
             [
              0.7777777777777778,
              "#fb9f3a"
             ],
             [
              0.8888888888888888,
              "#fdca26"
             ],
             [
              1,
              "#f0f921"
             ]
            ],
            "type": "surface"
           }
          ],
          "table": [
           {
            "cells": {
             "fill": {
              "color": "#EBF0F8"
             },
             "line": {
              "color": "white"
             }
            },
            "header": {
             "fill": {
              "color": "#C8D4E3"
             },
             "line": {
              "color": "white"
             }
            },
            "type": "table"
           }
          ]
         },
         "layout": {
          "annotationdefaults": {
           "arrowcolor": "#2a3f5f",
           "arrowhead": 0,
           "arrowwidth": 1
          },
          "autotypenumbers": "strict",
          "coloraxis": {
           "colorbar": {
            "outlinewidth": 0,
            "ticks": ""
           }
          },
          "colorscale": {
           "diverging": [
            [
             0,
             "#8e0152"
            ],
            [
             0.1,
             "#c51b7d"
            ],
            [
             0.2,
             "#de77ae"
            ],
            [
             0.3,
             "#f1b6da"
            ],
            [
             0.4,
             "#fde0ef"
            ],
            [
             0.5,
             "#f7f7f7"
            ],
            [
             0.6,
             "#e6f5d0"
            ],
            [
             0.7,
             "#b8e186"
            ],
            [
             0.8,
             "#7fbc41"
            ],
            [
             0.9,
             "#4d9221"
            ],
            [
             1,
             "#276419"
            ]
           ],
           "sequential": [
            [
             0,
             "#0d0887"
            ],
            [
             0.1111111111111111,
             "#46039f"
            ],
            [
             0.2222222222222222,
             "#7201a8"
            ],
            [
             0.3333333333333333,
             "#9c179e"
            ],
            [
             0.4444444444444444,
             "#bd3786"
            ],
            [
             0.5555555555555556,
             "#d8576b"
            ],
            [
             0.6666666666666666,
             "#ed7953"
            ],
            [
             0.7777777777777778,
             "#fb9f3a"
            ],
            [
             0.8888888888888888,
             "#fdca26"
            ],
            [
             1,
             "#f0f921"
            ]
           ],
           "sequentialminus": [
            [
             0,
             "#0d0887"
            ],
            [
             0.1111111111111111,
             "#46039f"
            ],
            [
             0.2222222222222222,
             "#7201a8"
            ],
            [
             0.3333333333333333,
             "#9c179e"
            ],
            [
             0.4444444444444444,
             "#bd3786"
            ],
            [
             0.5555555555555556,
             "#d8576b"
            ],
            [
             0.6666666666666666,
             "#ed7953"
            ],
            [
             0.7777777777777778,
             "#fb9f3a"
            ],
            [
             0.8888888888888888,
             "#fdca26"
            ],
            [
             1,
             "#f0f921"
            ]
           ]
          },
          "colorway": [
           "#636efa",
           "#EF553B",
           "#00cc96",
           "#ab63fa",
           "#FFA15A",
           "#19d3f3",
           "#FF6692",
           "#B6E880",
           "#FF97FF",
           "#FECB52"
          ],
          "font": {
           "color": "#2a3f5f"
          },
          "geo": {
           "bgcolor": "white",
           "lakecolor": "white",
           "landcolor": "#E5ECF6",
           "showlakes": true,
           "showland": true,
           "subunitcolor": "white"
          },
          "hoverlabel": {
           "align": "left"
          },
          "hovermode": "closest",
          "mapbox": {
           "style": "light"
          },
          "paper_bgcolor": "white",
          "plot_bgcolor": "#E5ECF6",
          "polar": {
           "angularaxis": {
            "gridcolor": "white",
            "linecolor": "white",
            "ticks": ""
           },
           "bgcolor": "#E5ECF6",
           "radialaxis": {
            "gridcolor": "white",
            "linecolor": "white",
            "ticks": ""
           }
          },
          "scene": {
           "xaxis": {
            "backgroundcolor": "#E5ECF6",
            "gridcolor": "white",
            "gridwidth": 2,
            "linecolor": "white",
            "showbackground": true,
            "ticks": "",
            "zerolinecolor": "white"
           },
           "yaxis": {
            "backgroundcolor": "#E5ECF6",
            "gridcolor": "white",
            "gridwidth": 2,
            "linecolor": "white",
            "showbackground": true,
            "ticks": "",
            "zerolinecolor": "white"
           },
           "zaxis": {
            "backgroundcolor": "#E5ECF6",
            "gridcolor": "white",
            "gridwidth": 2,
            "linecolor": "white",
            "showbackground": true,
            "ticks": "",
            "zerolinecolor": "white"
           }
          },
          "shapedefaults": {
           "line": {
            "color": "#2a3f5f"
           }
          },
          "ternary": {
           "aaxis": {
            "gridcolor": "white",
            "linecolor": "white",
            "ticks": ""
           },
           "baxis": {
            "gridcolor": "white",
            "linecolor": "white",
            "ticks": ""
           },
           "bgcolor": "#E5ECF6",
           "caxis": {
            "gridcolor": "white",
            "linecolor": "white",
            "ticks": ""
           }
          },
          "title": {
           "x": 0.05
          },
          "xaxis": {
           "automargin": true,
           "gridcolor": "white",
           "linecolor": "white",
           "ticks": "",
           "title": {
            "standoff": 15
           },
           "zerolinecolor": "white",
           "zerolinewidth": 2
          },
          "yaxis": {
           "automargin": true,
           "gridcolor": "white",
           "linecolor": "white",
           "ticks": "",
           "title": {
            "standoff": 15
           },
           "zerolinecolor": "white",
           "zerolinewidth": 2
          }
         }
        },
        "xaxis": {
         "showgrid": false,
         "showticklabels": false,
         "zeroline": true
        },
        "yaxis": {
         "showgrid": false,
         "showticklabels": false,
         "zeroline": true
        }
       }
      },
      "text/html": [
       "<div>                            <div id=\"2f5d76dd-79cc-4e1e-92e4-f898d0b01a93\" class=\"plotly-graph-div\" style=\"height:525px; width:100%;\"></div>            <script type=\"text/javascript\">                require([\"plotly\"], function(Plotly) {                    window.PLOTLYENV=window.PLOTLYENV || {};                                    if (document.getElementById(\"2f5d76dd-79cc-4e1e-92e4-f898d0b01a93\")) {                    Plotly.newPlot(                        \"2f5d76dd-79cc-4e1e-92e4-f898d0b01a93\",                        [{\"hoverinfo\":\"text\",\"line\":{\"color\":\"cornflowerblue\",\"width\":1},\"mode\":\"lines\",\"text\":[\"shape\"],\"x\":[1265.8,730.79,null],\"y\":[378.0,306.0,null],\"type\":\"scatter\"},{\"hoverinfo\":\"text\",\"line\":{\"color\":\"cornflowerblue\",\"width\":1},\"mode\":\"lines\",\"text\":[\"project\"],\"x\":[1265.8,1087.8,null],\"y\":[378.0,306.0,null],\"type\":\"scatter\"},{\"hoverinfo\":\"text\",\"line\":{\"color\":\"cornflowerblue\",\"width\":1},\"mode\":\"lines\",\"text\":[\"project\"],\"x\":[1265.8,1443.8,null],\"y\":[378.0,306.0,null],\"type\":\"scatter\"},{\"hoverinfo\":\"text\",\"line\":{\"color\":\"cornflowerblue\",\"width\":1},\"mode\":\"lines\",\"text\":[\"drop\"],\"x\":[1265.8,1800.8,null],\"y\":[378.0,306.0,null],\"type\":\"scatter\"},{\"hoverinfo\":\"text\",\"line\":{\"color\":\"cornflowerblue\",\"width\":1},\"mode\":\"lines\",\"text\":[\"shape\"],\"x\":[577.79,163.79,null],\"y\":[162.0,90.0,null],\"type\":\"scatter\"},{\"hoverinfo\":\"text\",\"line\":{\"color\":\"cornflowerblue\",\"width\":1},\"mode\":\"lines\",\"text\":[\"project\"],\"x\":[577.79,516.79,null],\"y\":[162.0,90.0,null],\"type\":\"scatter\"},{\"hoverinfo\":\"text\",\"line\":{\"color\":\"cornflowerblue\",\"width\":1},\"mode\":\"lines\",\"text\":[\"combine\"],\"x\":[577.79,1220.8,null],\"y\":[162.0,90.0,null],\"type\":\"scatter\"},{\"hoverinfo\":\"text\",\"line\":{\"color\":\"cornflowerblue\",\"width\":1},\"mode\":\"lines\",\"text\":[\"combine\"],\"x\":[577.79,870.79,null],\"y\":[162.0,90.0,null],\"type\":\"scatter\"},{\"hoverinfo\":\"text\",\"line\":{\"color\":\"cornflowerblue\",\"width\":1},\"mode\":\"lines\",\"text\":[\"shape\"],\"x\":[1020.8,1200.8,null],\"y\":[234.0,162.0,null],\"type\":\"scatter\"},{\"hoverinfo\":\"text\",\"line\":{\"color\":\"cornflowerblue\",\"width\":1},\"mode\":\"lines\",\"text\":[\"project\"],\"x\":[1020.8,840.79,null],\"y\":[234.0,162.0,null],\"type\":\"scatter\"},{\"hoverinfo\":\"text\",\"line\":{\"color\":\"cornflowerblue\",\"width\":1},\"mode\":\"lines\",\"text\":[\"combine\"],\"x\":[1443.8,1601.8,null],\"y\":[306.0,234.0,null],\"type\":\"scatter\"},{\"hoverinfo\":\"text\",\"line\":{\"color\":\"cornflowerblue\",\"width\":1},\"mode\":\"lines\",\"text\":[\"combine\"],\"x\":[1443.8,1571.8,null],\"y\":[306.0,90.0,null],\"type\":\"scatter\"},{\"hoverinfo\":\"text\",\"line\":{\"color\":\"cornflowerblue\",\"width\":1},\"mode\":\"lines\",\"text\":[\"combine\"],\"x\":[840.79,870.79,null],\"y\":[162.0,90.0,null],\"type\":\"scatter\"},{\"hoverinfo\":\"text\",\"line\":{\"color\":\"cornflowerblue\",\"width\":1},\"mode\":\"lines\",\"text\":[\"combine\"],\"x\":[1800.8,1601.8,null],\"y\":[306.0,234.0,null],\"type\":\"scatter\"},{\"hoverinfo\":\"text\",\"line\":{\"color\":\"cornflowerblue\",\"width\":1},\"mode\":\"lines\",\"text\":[\"combine\"],\"x\":[1800.8,1928.8,null],\"y\":[306.0,90.0,null],\"type\":\"scatter\"},{\"hoverinfo\":\"text\",\"line\":{\"color\":\"cornflowerblue\",\"width\":1},\"mode\":\"lines\",\"text\":[\"combine\"],\"x\":[1800.8,1571.8,null],\"y\":[306.0,90.0,null],\"type\":\"scatter\"},{\"hoverinfo\":\"text\",\"line\":{\"color\":\"cornflowerblue\",\"width\":1},\"mode\":\"lines\",\"text\":[\"LinearRegression\"],\"x\":[1601.8,1601.8,null],\"y\":[234.0,162.0,null],\"type\":\"scatter\"},{\"hoverinfo\":\"text\",\"line\":{\"color\":\"cornflowerblue\",\"width\":1},\"mode\":\"lines\",\"text\":[\"combine\"],\"x\":[1601.8,1928.8,null],\"y\":[162.0,90.0,null],\"type\":\"scatter\"},{\"hoverinfo\":\"text\",\"line\":{\"color\":\"cornflowerblue\",\"width\":1},\"mode\":\"lines\",\"text\":[\"combine\"],\"x\":[1601.8,1220.8,null],\"y\":[162.0,90.0,null],\"type\":\"scatter\"},{\"hoverinfo\":\"text\",\"line\":{\"color\":\"cornflowerblue\",\"width\":1},\"mode\":\"lines\",\"text\":[\"combine\"],\"x\":[1601.8,1571.8,null],\"y\":[162.0,90.0,null],\"type\":\"scatter\"},{\"hoverinfo\":\"text\",\"line\":{\"color\":\"cornflowerblue\",\"width\":1},\"mode\":\"lines\",\"text\":[\"combine\"],\"x\":[1601.8,870.79,null],\"y\":[162.0,90.0,null],\"type\":\"scatter\"},{\"hoverinfo\":\"text\",\"line\":{\"color\":\"cornflowerblue\",\"width\":1},\"mode\":\"lines\",\"text\":[\"predict\"],\"x\":[1928.8,1928.8,null],\"y\":[90.0,18.0,null],\"type\":\"scatter\"},{\"hoverinfo\":\"text\",\"line\":{\"color\":\"cornflowerblue\",\"width\":1},\"mode\":\"lines\",\"text\":[\"predict\"],\"x\":[1220.8,1220.8,null],\"y\":[90.0,18.0,null],\"type\":\"scatter\"},{\"hoverinfo\":\"text\",\"line\":{\"color\":\"cornflowerblue\",\"width\":1},\"mode\":\"lines\",\"text\":[\"score\"],\"x\":[1571.8,1573.8,null],\"y\":[90.0,18.0,null],\"type\":\"scatter\"},{\"hoverinfo\":\"text\",\"line\":{\"color\":\"cornflowerblue\",\"width\":1},\"mode\":\"lines\",\"text\":[\"score\"],\"x\":[870.79,868.79,null],\"y\":[90.0,18.0,null],\"type\":\"scatter\"},{\"hoverinfo\":\"text\",\"mode\":\"text\",\"text\":[\"shape\"],\"textposition\":\"bottom center\",\"x\":[998.295,730.79,null],\"y\":[342.0,306.0,null],\"type\":\"scatter\"},{\"hoverinfo\":\"text\",\"mode\":\"text\",\"text\":[\"project\"],\"textposition\":\"bottom center\",\"x\":[1176.8,1087.8,null],\"y\":[342.0,306.0,null],\"type\":\"scatter\"},{\"hoverinfo\":\"text\",\"mode\":\"text\",\"text\":[\"project\"],\"textposition\":\"bottom center\",\"x\":[1354.8,1443.8,null],\"y\":[342.0,306.0,null],\"type\":\"scatter\"},{\"hoverinfo\":\"text\",\"mode\":\"text\",\"text\":[\"drop\"],\"textposition\":\"bottom center\",\"x\":[1533.3,1800.8,null],\"y\":[342.0,306.0,null],\"type\":\"scatter\"},{\"hoverinfo\":\"text\",\"mode\":\"text\",\"text\":[\"shape\"],\"textposition\":\"bottom center\",\"x\":[370.78999999999996,163.79,null],\"y\":[126.0,90.0,null],\"type\":\"scatter\"},{\"hoverinfo\":\"text\",\"mode\":\"text\",\"text\":[\"project\"],\"textposition\":\"bottom center\",\"x\":[547.29,516.79,null],\"y\":[126.0,90.0,null],\"type\":\"scatter\"},{\"hoverinfo\":\"text\",\"mode\":\"text\",\"text\":[\"combine\"],\"textposition\":\"bottom center\",\"x\":[899.295,1220.8,null],\"y\":[126.0,90.0,null],\"type\":\"scatter\"},{\"hoverinfo\":\"text\",\"mode\":\"text\",\"text\":[\"combine\"],\"textposition\":\"bottom center\",\"x\":[724.29,870.79,null],\"y\":[126.0,90.0,null],\"type\":\"scatter\"},{\"hoverinfo\":\"text\",\"mode\":\"text\",\"text\":[\"shape\"],\"textposition\":\"bottom center\",\"x\":[1110.8,1200.8,null],\"y\":[198.0,162.0,null],\"type\":\"scatter\"},{\"hoverinfo\":\"text\",\"mode\":\"text\",\"text\":[\"project\"],\"textposition\":\"bottom center\",\"x\":[930.795,840.79,null],\"y\":[198.0,162.0,null],\"type\":\"scatter\"},{\"hoverinfo\":\"text\",\"mode\":\"text\",\"text\":[\"combine\"],\"textposition\":\"bottom center\",\"x\":[1522.8,1601.8,null],\"y\":[270.0,234.0,null],\"type\":\"scatter\"},{\"hoverinfo\":\"text\",\"mode\":\"text\",\"text\":[\"combine\"],\"textposition\":\"bottom center\",\"x\":[1507.8,1571.8,null],\"y\":[198.0,90.0,null],\"type\":\"scatter\"},{\"hoverinfo\":\"text\",\"mode\":\"text\",\"text\":[\"combine\"],\"textposition\":\"bottom center\",\"x\":[855.79,870.79,null],\"y\":[126.0,90.0,null],\"type\":\"scatter\"},{\"hoverinfo\":\"text\",\"mode\":\"text\",\"text\":[\"combine\"],\"textposition\":\"bottom center\",\"x\":[1701.3,1601.8,null],\"y\":[270.0,234.0,null],\"type\":\"scatter\"},{\"hoverinfo\":\"text\",\"mode\":\"text\",\"text\":[\"combine\"],\"textposition\":\"bottom center\",\"x\":[1864.8,1928.8,null],\"y\":[198.0,90.0,null],\"type\":\"scatter\"},{\"hoverinfo\":\"text\",\"mode\":\"text\",\"text\":[\"combine\"],\"textposition\":\"bottom center\",\"x\":[1686.3,1571.8,null],\"y\":[198.0,90.0,null],\"type\":\"scatter\"},{\"hoverinfo\":\"text\",\"mode\":\"text\",\"text\":[\"LinearRegression\"],\"textposition\":\"bottom center\",\"x\":[1601.8,1601.8,null],\"y\":[198.0,162.0,null],\"type\":\"scatter\"},{\"hoverinfo\":\"text\",\"mode\":\"text\",\"text\":[\"combine\"],\"textposition\":\"bottom center\",\"x\":[1765.3,1928.8,null],\"y\":[126.0,90.0,null],\"type\":\"scatter\"},{\"hoverinfo\":\"text\",\"mode\":\"text\",\"text\":[\"combine\"],\"textposition\":\"bottom center\",\"x\":[1411.3,1220.8,null],\"y\":[126.0,90.0,null],\"type\":\"scatter\"},{\"hoverinfo\":\"text\",\"mode\":\"text\",\"text\":[\"combine\"],\"textposition\":\"bottom center\",\"x\":[1586.8,1571.8,null],\"y\":[126.0,90.0,null],\"type\":\"scatter\"},{\"hoverinfo\":\"text\",\"mode\":\"text\",\"text\":[\"combine\"],\"textposition\":\"bottom center\",\"x\":[1236.295,870.79,null],\"y\":[126.0,90.0,null],\"type\":\"scatter\"},{\"hoverinfo\":\"text\",\"mode\":\"text\",\"text\":[\"predict\"],\"textposition\":\"bottom center\",\"x\":[1928.8,1928.8,null],\"y\":[54.0,18.0,null],\"type\":\"scatter\"},{\"hoverinfo\":\"text\",\"mode\":\"text\",\"text\":[\"predict\"],\"textposition\":\"bottom center\",\"x\":[1220.8,1220.8,null],\"y\":[54.0,18.0,null],\"type\":\"scatter\"},{\"hoverinfo\":\"text\",\"mode\":\"text\",\"text\":[\"score\"],\"textposition\":\"bottom center\",\"x\":[1572.8,1573.8,null],\"y\":[54.0,18.0,null],\"type\":\"scatter\"},{\"hoverinfo\":\"text\",\"mode\":\"text\",\"text\":[\"score\"],\"textposition\":\"bottom center\",\"x\":[869.79,868.79,null],\"y\":[54.0,18.0,null],\"type\":\"scatter\"},{\"hoverinfo\":\"none\",\"marker\":{\"color\":[\"cornflowerblue\",\"cornflowerblue\",\"cornflowerblue\",\"cornflowerblue\",\"cornflowerblue\",\"cornflowerblue\",\"cornflowerblue\",\"cornflowerblue\",\"cornflowerblue\",\"cornflowerblue\",\"cornflowerblue\",\"cornflowerblue\",\"cornflowerblue\",\"cornflowerblue\",\"cornflowerblue\",\"cornflowerblue\",\"cornflowerblue\",\"cornflowerblue\",\"cornflowerblue\",\"cornflowerblue\",\"cornflowerblue\"],\"colorscale\":[[0.0,\"rgb(255,255,217)\"],[0.125,\"rgb(237,248,177)\"],[0.25,\"rgb(199,233,180)\"],[0.375,\"rgb(127,205,187)\"],[0.5,\"rgb(65,182,196)\"],[0.625,\"rgb(29,145,192)\"],[0.75,\"rgb(34,94,168)\"],[0.875,\"rgb(37,52,148)\"],[1.0,\"rgb(8,29,88)\"]],\"line\":{\"width\":2},\"reversescale\":true,\"size\":20.5},\"mode\":\"markers+text\",\"text\":[],\"textfont\":{\"size\":10},\"textposition\":\"top center\",\"x\":[1265.8,730.79,577.79,163.79,1020.8,1200.8,1087.8,1443.8,516.79,840.79,1800.8,1601.8,1601.8,1928.8,1928.8,1220.8,1220.8,1571.8,1573.8,870.79,868.79],\"y\":[378.0,306.0,162.0,90.0,234.0,162.0,306.0,306.0,90.0,162.0,306.0,234.0,162.0,90.0,18.0,90.0,18.0,90.0,18.0,90.0,18.0],\"type\":\"scatter\"}],                        {\"paper_bgcolor\":\"rgba(0,0,0,0)\",\"plot_bgcolor\":\"rgba(0,0,0,0)\",\"xaxis\":{\"showgrid\":false,\"zeroline\":true,\"showticklabels\":false},\"yaxis\":{\"showgrid\":false,\"zeroline\":true,\"showticklabels\":false},\"template\":{\"data\":{\"histogram2dcontour\":[{\"type\":\"histogram2dcontour\",\"colorbar\":{\"outlinewidth\":0,\"ticks\":\"\"},\"colorscale\":[[0.0,\"#0d0887\"],[0.1111111111111111,\"#46039f\"],[0.2222222222222222,\"#7201a8\"],[0.3333333333333333,\"#9c179e\"],[0.4444444444444444,\"#bd3786\"],[0.5555555555555556,\"#d8576b\"],[0.6666666666666666,\"#ed7953\"],[0.7777777777777778,\"#fb9f3a\"],[0.8888888888888888,\"#fdca26\"],[1.0,\"#f0f921\"]]}],\"choropleth\":[{\"type\":\"choropleth\",\"colorbar\":{\"outlinewidth\":0,\"ticks\":\"\"}}],\"histogram2d\":[{\"type\":\"histogram2d\",\"colorbar\":{\"outlinewidth\":0,\"ticks\":\"\"},\"colorscale\":[[0.0,\"#0d0887\"],[0.1111111111111111,\"#46039f\"],[0.2222222222222222,\"#7201a8\"],[0.3333333333333333,\"#9c179e\"],[0.4444444444444444,\"#bd3786\"],[0.5555555555555556,\"#d8576b\"],[0.6666666666666666,\"#ed7953\"],[0.7777777777777778,\"#fb9f3a\"],[0.8888888888888888,\"#fdca26\"],[1.0,\"#f0f921\"]]}],\"heatmap\":[{\"type\":\"heatmap\",\"colorbar\":{\"outlinewidth\":0,\"ticks\":\"\"},\"colorscale\":[[0.0,\"#0d0887\"],[0.1111111111111111,\"#46039f\"],[0.2222222222222222,\"#7201a8\"],[0.3333333333333333,\"#9c179e\"],[0.4444444444444444,\"#bd3786\"],[0.5555555555555556,\"#d8576b\"],[0.6666666666666666,\"#ed7953\"],[0.7777777777777778,\"#fb9f3a\"],[0.8888888888888888,\"#fdca26\"],[1.0,\"#f0f921\"]]}],\"heatmapgl\":[{\"type\":\"heatmapgl\",\"colorbar\":{\"outlinewidth\":0,\"ticks\":\"\"},\"colorscale\":[[0.0,\"#0d0887\"],[0.1111111111111111,\"#46039f\"],[0.2222222222222222,\"#7201a8\"],[0.3333333333333333,\"#9c179e\"],[0.4444444444444444,\"#bd3786\"],[0.5555555555555556,\"#d8576b\"],[0.6666666666666666,\"#ed7953\"],[0.7777777777777778,\"#fb9f3a\"],[0.8888888888888888,\"#fdca26\"],[1.0,\"#f0f921\"]]}],\"contourcarpet\":[{\"type\":\"contourcarpet\",\"colorbar\":{\"outlinewidth\":0,\"ticks\":\"\"}}],\"contour\":[{\"type\":\"contour\",\"colorbar\":{\"outlinewidth\":0,\"ticks\":\"\"},\"colorscale\":[[0.0,\"#0d0887\"],[0.1111111111111111,\"#46039f\"],[0.2222222222222222,\"#7201a8\"],[0.3333333333333333,\"#9c179e\"],[0.4444444444444444,\"#bd3786\"],[0.5555555555555556,\"#d8576b\"],[0.6666666666666666,\"#ed7953\"],[0.7777777777777778,\"#fb9f3a\"],[0.8888888888888888,\"#fdca26\"],[1.0,\"#f0f921\"]]}],\"surface\":[{\"type\":\"surface\",\"colorbar\":{\"outlinewidth\":0,\"ticks\":\"\"},\"colorscale\":[[0.0,\"#0d0887\"],[0.1111111111111111,\"#46039f\"],[0.2222222222222222,\"#7201a8\"],[0.3333333333333333,\"#9c179e\"],[0.4444444444444444,\"#bd3786\"],[0.5555555555555556,\"#d8576b\"],[0.6666666666666666,\"#ed7953\"],[0.7777777777777778,\"#fb9f3a\"],[0.8888888888888888,\"#fdca26\"],[1.0,\"#f0f921\"]]}],\"mesh3d\":[{\"type\":\"mesh3d\",\"colorbar\":{\"outlinewidth\":0,\"ticks\":\"\"}}],\"scatter\":[{\"fillpattern\":{\"fillmode\":\"overlay\",\"size\":10,\"solidity\":0.2},\"type\":\"scatter\"}],\"parcoords\":[{\"type\":\"parcoords\",\"line\":{\"colorbar\":{\"outlinewidth\":0,\"ticks\":\"\"}}}],\"scatterpolargl\":[{\"type\":\"scatterpolargl\",\"marker\":{\"colorbar\":{\"outlinewidth\":0,\"ticks\":\"\"}}}],\"bar\":[{\"error_x\":{\"color\":\"#2a3f5f\"},\"error_y\":{\"color\":\"#2a3f5f\"},\"marker\":{\"line\":{\"color\":\"#E5ECF6\",\"width\":0.5},\"pattern\":{\"fillmode\":\"overlay\",\"size\":10,\"solidity\":0.2}},\"type\":\"bar\"}],\"scattergeo\":[{\"type\":\"scattergeo\",\"marker\":{\"colorbar\":{\"outlinewidth\":0,\"ticks\":\"\"}}}],\"scatterpolar\":[{\"type\":\"scatterpolar\",\"marker\":{\"colorbar\":{\"outlinewidth\":0,\"ticks\":\"\"}}}],\"histogram\":[{\"marker\":{\"pattern\":{\"fillmode\":\"overlay\",\"size\":10,\"solidity\":0.2}},\"type\":\"histogram\"}],\"scattergl\":[{\"type\":\"scattergl\",\"marker\":{\"colorbar\":{\"outlinewidth\":0,\"ticks\":\"\"}}}],\"scatter3d\":[{\"type\":\"scatter3d\",\"line\":{\"colorbar\":{\"outlinewidth\":0,\"ticks\":\"\"}},\"marker\":{\"colorbar\":{\"outlinewidth\":0,\"ticks\":\"\"}}}],\"scattermapbox\":[{\"type\":\"scattermapbox\",\"marker\":{\"colorbar\":{\"outlinewidth\":0,\"ticks\":\"\"}}}],\"scatterternary\":[{\"type\":\"scatterternary\",\"marker\":{\"colorbar\":{\"outlinewidth\":0,\"ticks\":\"\"}}}],\"scattercarpet\":[{\"type\":\"scattercarpet\",\"marker\":{\"colorbar\":{\"outlinewidth\":0,\"ticks\":\"\"}}}],\"carpet\":[{\"aaxis\":{\"endlinecolor\":\"#2a3f5f\",\"gridcolor\":\"white\",\"linecolor\":\"white\",\"minorgridcolor\":\"white\",\"startlinecolor\":\"#2a3f5f\"},\"baxis\":{\"endlinecolor\":\"#2a3f5f\",\"gridcolor\":\"white\",\"linecolor\":\"white\",\"minorgridcolor\":\"white\",\"startlinecolor\":\"#2a3f5f\"},\"type\":\"carpet\"}],\"table\":[{\"cells\":{\"fill\":{\"color\":\"#EBF0F8\"},\"line\":{\"color\":\"white\"}},\"header\":{\"fill\":{\"color\":\"#C8D4E3\"},\"line\":{\"color\":\"white\"}},\"type\":\"table\"}],\"barpolar\":[{\"marker\":{\"line\":{\"color\":\"#E5ECF6\",\"width\":0.5},\"pattern\":{\"fillmode\":\"overlay\",\"size\":10,\"solidity\":0.2}},\"type\":\"barpolar\"}],\"pie\":[{\"automargin\":true,\"type\":\"pie\"}]},\"layout\":{\"autotypenumbers\":\"strict\",\"colorway\":[\"#636efa\",\"#EF553B\",\"#00cc96\",\"#ab63fa\",\"#FFA15A\",\"#19d3f3\",\"#FF6692\",\"#B6E880\",\"#FF97FF\",\"#FECB52\"],\"font\":{\"color\":\"#2a3f5f\"},\"hovermode\":\"closest\",\"hoverlabel\":{\"align\":\"left\"},\"paper_bgcolor\":\"white\",\"plot_bgcolor\":\"#E5ECF6\",\"polar\":{\"bgcolor\":\"#E5ECF6\",\"angularaxis\":{\"gridcolor\":\"white\",\"linecolor\":\"white\",\"ticks\":\"\"},\"radialaxis\":{\"gridcolor\":\"white\",\"linecolor\":\"white\",\"ticks\":\"\"}},\"ternary\":{\"bgcolor\":\"#E5ECF6\",\"aaxis\":{\"gridcolor\":\"white\",\"linecolor\":\"white\",\"ticks\":\"\"},\"baxis\":{\"gridcolor\":\"white\",\"linecolor\":\"white\",\"ticks\":\"\"},\"caxis\":{\"gridcolor\":\"white\",\"linecolor\":\"white\",\"ticks\":\"\"}},\"coloraxis\":{\"colorbar\":{\"outlinewidth\":0,\"ticks\":\"\"}},\"colorscale\":{\"sequential\":[[0.0,\"#0d0887\"],[0.1111111111111111,\"#46039f\"],[0.2222222222222222,\"#7201a8\"],[0.3333333333333333,\"#9c179e\"],[0.4444444444444444,\"#bd3786\"],[0.5555555555555556,\"#d8576b\"],[0.6666666666666666,\"#ed7953\"],[0.7777777777777778,\"#fb9f3a\"],[0.8888888888888888,\"#fdca26\"],[1.0,\"#f0f921\"]],\"sequentialminus\":[[0.0,\"#0d0887\"],[0.1111111111111111,\"#46039f\"],[0.2222222222222222,\"#7201a8\"],[0.3333333333333333,\"#9c179e\"],[0.4444444444444444,\"#bd3786\"],[0.5555555555555556,\"#d8576b\"],[0.6666666666666666,\"#ed7953\"],[0.7777777777777778,\"#fb9f3a\"],[0.8888888888888888,\"#fdca26\"],[1.0,\"#f0f921\"]],\"diverging\":[[0,\"#8e0152\"],[0.1,\"#c51b7d\"],[0.2,\"#de77ae\"],[0.3,\"#f1b6da\"],[0.4,\"#fde0ef\"],[0.5,\"#f7f7f7\"],[0.6,\"#e6f5d0\"],[0.7,\"#b8e186\"],[0.8,\"#7fbc41\"],[0.9,\"#4d9221\"],[1,\"#276419\"]]},\"xaxis\":{\"gridcolor\":\"white\",\"linecolor\":\"white\",\"ticks\":\"\",\"title\":{\"standoff\":15},\"zerolinecolor\":\"white\",\"automargin\":true,\"zerolinewidth\":2},\"yaxis\":{\"gridcolor\":\"white\",\"linecolor\":\"white\",\"ticks\":\"\",\"title\":{\"standoff\":15},\"zerolinecolor\":\"white\",\"automargin\":true,\"zerolinewidth\":2},\"scene\":{\"xaxis\":{\"backgroundcolor\":\"#E5ECF6\",\"gridcolor\":\"white\",\"linecolor\":\"white\",\"showbackground\":true,\"ticks\":\"\",\"zerolinecolor\":\"white\",\"gridwidth\":2},\"yaxis\":{\"backgroundcolor\":\"#E5ECF6\",\"gridcolor\":\"white\",\"linecolor\":\"white\",\"showbackground\":true,\"ticks\":\"\",\"zerolinecolor\":\"white\",\"gridwidth\":2},\"zaxis\":{\"backgroundcolor\":\"#E5ECF6\",\"gridcolor\":\"white\",\"linecolor\":\"white\",\"showbackground\":true,\"ticks\":\"\",\"zerolinecolor\":\"white\",\"gridwidth\":2}},\"shapedefaults\":{\"line\":{\"color\":\"#2a3f5f\"}},\"annotationdefaults\":{\"arrowcolor\":\"#2a3f5f\",\"arrowhead\":0,\"arrowwidth\":1},\"geo\":{\"bgcolor\":\"white\",\"landcolor\":\"#E5ECF6\",\"subunitcolor\":\"white\",\"showland\":true,\"showlakes\":true,\"lakecolor\":\"white\"},\"title\":{\"x\":0.05},\"mapbox\":{\"style\":\"light\"}}},\"showlegend\":false},                        {\"responsive\": true}                    ).then(function(){\n",
       "                            \n",
       "var gd = document.getElementById('2f5d76dd-79cc-4e1e-92e4-f898d0b01a93');\n",
       "var x = new MutationObserver(function (mutations, observer) {{\n",
       "        var display = window.getComputedStyle(gd).display;\n",
       "        if (!display || display === 'none') {{\n",
       "            console.log([gd, 'removed!']);\n",
       "            Plotly.purge(gd);\n",
       "            observer.disconnect();\n",
       "        }}\n",
       "}});\n",
       "\n",
       "// Listen for the removal of the full notebook cells\n",
       "var notebookContainer = gd.closest('#notebook-container');\n",
       "if (notebookContainer) {{\n",
       "    x.observe(notebookContainer, {childList: true});\n",
       "}}\n",
       "\n",
       "// Listen for the clearing of the current output cell\n",
       "var outputEl = gd.closest('.output');\n",
       "if (outputEl) {{\n",
       "    x.observe(outputEl, {childList: true});\n",
       "}}\n",
       "\n",
       "                        })                };                });            </script>        </div>"
      ]
     },
     "metadata": {},
     "output_type": "display_data"
    }
   ],
   "source": [
    "# Customize layout\n",
    "layout = go.Layout(\n",
    "    paper_bgcolor='rgba(0,0,0,0)', # transparent background\n",
    "    plot_bgcolor='rgba(0,0,0,0)', # transparent 2nd background\n",
    "    xaxis =  {'showgrid': False, 'zeroline': True}, # no gridlines\n",
    "    yaxis = {'showgrid': False, 'zeroline': True}, # no gridlines\n",
    ")\n",
    "# Create figure\n",
    "fig = go.Figure(layout = layout)\n",
    "# Add all edge traces\n",
    "for trace in edge_trace:\n",
    "    fig.add_trace(trace)\n",
    "# Add all edge text traces\n",
    "for trace in edge_text_trace:\n",
    "    fig.add_trace(trace)\n",
    "# Add node trace\n",
    "fig.add_trace(node_trace)\n",
    "# Remove legend\n",
    "fig.update_layout(showlegend = False)\n",
    "# Remove tick labels\n",
    "fig.update_xaxes(showticklabels = False)\n",
    "fig.update_yaxes(showticklabels = False)\n",
    "# Show figure\n",
    "fig.show()"
   ]
  },
  {
   "cell_type": "code",
   "execution_count": 36,
   "id": "85695769",
   "metadata": {},
   "outputs": [
    {
     "data": {
      "text/plain": [
       "[('train.csv{}',\n",
       "  {'root': True,\n",
       "   'type': 'Dataset',\n",
       "   'data': <experiment_graph.graph.node.Dataset at 0x7fd350991160>,\n",
       "   'loc': './lr_data/final/train.csv',\n",
       "   'extra_params': {},\n",
       "   'size': None}),\n",
       " ('595CAA1A74E9B72C801C6896EB068148',\n",
       "  {'type': 'Agg',\n",
       "   'root': False,\n",
       "   'data': <experiment_graph.graph.node.Agg at 0x7fd350991040>,\n",
       "   'size': 0.0}),\n",
       " ('test.csv{}',\n",
       "  {'root': True,\n",
       "   'type': 'Dataset',\n",
       "   'data': <experiment_graph.graph.node.Dataset at 0x7fd350991970>,\n",
       "   'loc': './lr_data/final/test.csv',\n",
       "   'extra_params': {},\n",
       "   'size': None}),\n",
       " ('F6C19391A143357B6F7A255F62B7E2D3',\n",
       "  {'type': 'Agg',\n",
       "   'root': False,\n",
       "   'data': <experiment_graph.graph.node.Agg at 0x7fd350980700>,\n",
       "   'size': 0.0}),\n",
       " ('test_labels.csv{}',\n",
       "  {'root': True,\n",
       "   'type': 'Dataset',\n",
       "   'data': <experiment_graph.graph.node.Dataset at 0x7fd3509919a0>,\n",
       "   'loc': './lr_data/final/test_labels.csv',\n",
       "   'extra_params': {},\n",
       "   'size': None}),\n",
       " ('517FFCDAF1BDD0A3141FECA7AE09569F',\n",
       "  {'type': 'Agg',\n",
       "   'root': False,\n",
       "   'data': <experiment_graph.graph.node.Agg at 0x7fd350991580>,\n",
       "   'size': 0.0}),\n",
       " ('34A0B1F9AC6DF07D30C89756A26DB3BE',\n",
       "  {'type': 'Feature',\n",
       "   'root': False,\n",
       "   'data': <experiment_graph.graph.node.Feature at 0x7fd35099fa30>,\n",
       "   'size': 0.0}),\n",
       " ('5423D749E149FDB5B04A3A40810F6A62',\n",
       "  {'type': 'Feature',\n",
       "   'root': False,\n",
       "   'data': <experiment_graph.graph.node.Feature at 0x7fd35099fa90>,\n",
       "   'size': 0.0}),\n",
       " ('384622073BB386DAEE43DB3A6393AB1D',\n",
       "  {'type': 'Feature',\n",
       "   'root': False,\n",
       "   'data': <experiment_graph.graph.node.Feature at 0x7fd35099f9d0>,\n",
       "   'size': 0.0}),\n",
       " ('334750AD338589450A19D1FDAF25FD6A',\n",
       "  {'type': 'Feature',\n",
       "   'root': False,\n",
       "   'data': <experiment_graph.graph.node.Feature at 0x7fd35099fa00>,\n",
       "   'size': 0.0}),\n",
       " ('4B99A84542AFDEF4A0B87E7941A0CDCB',\n",
       "  {'type': 'Dataset',\n",
       "   'root': False,\n",
       "   'data': <experiment_graph.graph.node.Dataset at 0x7fd350b6fb20>,\n",
       "   'size': 0.0}),\n",
       " ('080E2038FADEB5E10BDB1D4F8DF8FC76',\n",
       "  {'type': 'SuperNode',\n",
       "   'root': False,\n",
       "   'data': <experiment_graph.graph.node.SuperNode at 0x7fd350980a30>,\n",
       "   'size': None,\n",
       "   'involved_nodes': ['4B99A84542AFDEF4A0B87E7941A0CDCB',\n",
       "    '5423D749E149FDB5B04A3A40810F6A62']}),\n",
       " ('B5BD162CA7F848AFAD97369BC6D26969',\n",
       "  {'type': 'SK_Model',\n",
       "   'root': False,\n",
       "   'data': <experiment_graph.graph.node.SK_Model at 0x7fd350b6fbb0>,\n",
       "   'size': 0.0,\n",
       "   'score': -1}),\n",
       " ('4A6BC6C01DEA2858F628FCA3EE7D76CF',\n",
       "  {'type': 'SuperNode',\n",
       "   'root': False,\n",
       "   'data': <experiment_graph.graph.node.SuperNode at 0x7fd34f755b80>,\n",
       "   'size': 0,\n",
       "   'involved_nodes': ['B5BD162CA7F848AFAD97369BC6D26969',\n",
       "    '4B99A84542AFDEF4A0B87E7941A0CDCB']}),\n",
       " ('801C896B329240FA0F2FCDBD24E215AA',\n",
       "  {'type': 'Dataset',\n",
       "   'root': False,\n",
       "   'data': <experiment_graph.graph.node.Dataset at 0x7fd35099f190>,\n",
       "   'size': 0.0}),\n",
       " ('A325B45535E279B096EFEC9E6D85438C',\n",
       "  {'type': 'SuperNode',\n",
       "   'root': False,\n",
       "   'data': <experiment_graph.graph.node.SuperNode at 0x7fd34901de80>,\n",
       "   'size': None,\n",
       "   'involved_nodes': ['B5BD162CA7F848AFAD97369BC6D26969', 'test.csv{}']}),\n",
       " ('F96C36AB58964B911DA594D92AA5F00C',\n",
       "  {'type': 'Dataset',\n",
       "   'root': False,\n",
       "   'data': <experiment_graph.graph.node.Dataset at 0x7fd34f755610>,\n",
       "   'size': 0.0}),\n",
       " ('91E14B8BBE41D69C79F29575F13B2A2F',\n",
       "  {'type': 'SuperNode',\n",
       "   'root': False,\n",
       "   'data': <experiment_graph.graph.node.SuperNode at 0x7fd350b6fd90>,\n",
       "   'size': None,\n",
       "   'involved_nodes': ['B5BD162CA7F848AFAD97369BC6D26969',\n",
       "    '4B99A84542AFDEF4A0B87E7941A0CDCB',\n",
       "    '5423D749E149FDB5B04A3A40810F6A62']}),\n",
       " ('40D137E5ECA8FFE22E6852BC4864147B',\n",
       "  {'type': 'Evaluation',\n",
       "   'root': False,\n",
       "   'data': <experiment_graph.graph.node.Evaluation at 0x7fd350b6fee0>,\n",
       "   'size': 0.0}),\n",
       " ('4E25925EAA90E9EE048355367C9ED45F',\n",
       "  {'type': 'SuperNode',\n",
       "   'root': False,\n",
       "   'data': <experiment_graph.graph.node.SuperNode at 0x7fd350b6ff70>,\n",
       "   'size': None,\n",
       "   'involved_nodes': ['B5BD162CA7F848AFAD97369BC6D26969',\n",
       "    'test.csv{}',\n",
       "    '334750AD338589450A19D1FDAF25FD6A']}),\n",
       " ('B79ABDFF095793134783121C141AE54E',\n",
       "  {'type': 'Evaluation',\n",
       "   'root': False,\n",
       "   'data': <experiment_graph.graph.node.Evaluation at 0x7fd34f8a1c70>,\n",
       "   'size': 0.0})]"
      ]
     },
     "execution_count": 36,
     "metadata": {},
     "output_type": "execute_result"
    }
   ],
   "source": [
    "list(execution_environment.workload_dag.graph.nodes(data=True))"
   ]
  },
  {
   "cell_type": "code",
   "execution_count": 80,
   "id": "04535e23",
   "metadata": {},
   "outputs": [
    {
     "data": {
      "text/plain": [
       "{'root': True,\n",
       " 'type': 'Dataset',\n",
       " 'data': <experiment_graph.graph.node.Dataset at 0x7fd350991160>,\n",
       " 'loc': './lr_data/final/train.csv',\n",
       " 'extra_params': {},\n",
       " 'size': None}"
      ]
     },
     "execution_count": 80,
     "metadata": {},
     "output_type": "execute_result"
    }
   ],
   "source": [
    "G.nodes[edge[0]]"
   ]
  },
  {
   "cell_type": "code",
   "execution_count": 88,
   "id": "d2ce7905",
   "metadata": {},
   "outputs": [
    {
     "name": "stdout",
     "output_type": "stream",
     "text": [
      "shape\n",
      "project\n",
      "project\n",
      "drop\n",
      "shape\n",
      "project\n",
      "combine\n",
      "combine\n",
      "shape\n",
      "project\n",
      "combine\n",
      "combine\n",
      "combine\n",
      "combine\n",
      "combine\n",
      "combine\n",
      "LinearRegression\n",
      "combine\n",
      "combine\n",
      "combine\n",
      "combine\n",
      "predict\n",
      "predict\n",
      "score\n",
      "score\n"
     ]
    }
   ],
   "source": [
    "for edge in G.edges(data=True):\n",
    "    print(edge[2]['name'])"
   ]
  },
  {
   "cell_type": "code",
   "execution_count": null,
   "id": "dade6f46",
   "metadata": {},
   "outputs": [],
   "source": []
  }
 ],
 "metadata": {
  "kernelspec": {
   "display_name": "Python 3 (ipykernel)",
   "language": "python",
   "name": "python3"
  },
  "language_info": {
   "codemirror_mode": {
    "name": "ipython",
    "version": 3
   },
   "file_extension": ".py",
   "mimetype": "text/x-python",
   "name": "python",
   "nbconvert_exporter": "python",
   "pygments_lexer": "ipython3",
   "version": "3.8.16"
  }
 },
 "nbformat": 4,
 "nbformat_minor": 5
}
